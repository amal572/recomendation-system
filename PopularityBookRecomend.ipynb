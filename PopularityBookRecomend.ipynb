{
 "cells": [
  {
   "cell_type": "code",
   "execution_count": 1,
   "metadata": {
    "id": "MM-X2ELHIdzh"
   },
   "outputs": [],
   "source": [
    "import warnings\n",
    "import pandas as pd\n",
    "import numpy as np\n",
    "import seaborn as sns\n",
    "import matplotlib.pyplot as plt\n",
    "%matplotlib inline\n",
    "warnings.filterwarnings('ignore')\n",
    "from sklearn.metrics.pairwise import cosine_similarity"
   ]
  },
  {
   "cell_type": "code",
   "execution_count": 2,
   "metadata": {
    "colab": {
     "base_uri": "https://localhost:8080/"
    },
    "id": "g3uo8ja-yqk4",
    "outputId": "603216ce-58ef-4afb-b483-9ea2c4bf1485"
   },
   "outputs": [
    {
     "name": "stdout",
     "output_type": "stream",
     "text": [
      "Looking in indexes: https://pypi.org/simple, https://us-python.pkg.dev/colab-wheels/public/simple/\n",
      "Collecting sentence-transformers\n",
      "  Downloading sentence-transformers-2.2.0.tar.gz (79 kB)\n",
      "\u001b[K     |████████████████████████████████| 79 kB 2.1 MB/s \n",
      "\u001b[?25hCollecting transformers<5.0.0,>=4.6.0\n",
      "  Downloading transformers-4.20.0-py3-none-any.whl (4.4 MB)\n",
      "\u001b[K     |████████████████████████████████| 4.4 MB 32.1 MB/s \n",
      "\u001b[?25hRequirement already satisfied: tqdm in /usr/local/lib/python3.7/dist-packages (from sentence-transformers) (4.64.0)\n",
      "Requirement already satisfied: torch>=1.6.0 in /usr/local/lib/python3.7/dist-packages (from sentence-transformers) (1.11.0+cu113)\n",
      "Requirement already satisfied: torchvision in /usr/local/lib/python3.7/dist-packages (from sentence-transformers) (0.12.0+cu113)\n",
      "Requirement already satisfied: numpy in /usr/local/lib/python3.7/dist-packages (from sentence-transformers) (1.21.6)\n",
      "Requirement already satisfied: scikit-learn in /usr/local/lib/python3.7/dist-packages (from sentence-transformers) (1.0.2)\n",
      "Requirement already satisfied: scipy in /usr/local/lib/python3.7/dist-packages (from sentence-transformers) (1.4.1)\n",
      "Requirement already satisfied: nltk in /usr/local/lib/python3.7/dist-packages (from sentence-transformers) (3.7)\n",
      "Collecting sentencepiece\n",
      "  Downloading sentencepiece-0.1.96-cp37-cp37m-manylinux_2_17_x86_64.manylinux2014_x86_64.whl (1.2 MB)\n",
      "\u001b[K     |████████████████████████████████| 1.2 MB 53.8 MB/s \n",
      "\u001b[?25hCollecting huggingface-hub\n",
      "  Downloading huggingface_hub-0.7.0-py3-none-any.whl (86 kB)\n",
      "\u001b[K     |████████████████████████████████| 86 kB 4.8 MB/s \n",
      "\u001b[?25hRequirement already satisfied: typing-extensions in /usr/local/lib/python3.7/dist-packages (from torch>=1.6.0->sentence-transformers) (4.1.1)\n",
      "Requirement already satisfied: importlib-metadata in /usr/local/lib/python3.7/dist-packages (from transformers<5.0.0,>=4.6.0->sentence-transformers) (4.11.4)\n",
      "Requirement already satisfied: regex!=2019.12.17 in /usr/local/lib/python3.7/dist-packages (from transformers<5.0.0,>=4.6.0->sentence-transformers) (2022.6.2)\n",
      "Requirement already satisfied: filelock in /usr/local/lib/python3.7/dist-packages (from transformers<5.0.0,>=4.6.0->sentence-transformers) (3.7.1)\n",
      "Requirement already satisfied: requests in /usr/local/lib/python3.7/dist-packages (from transformers<5.0.0,>=4.6.0->sentence-transformers) (2.23.0)\n",
      "Collecting pyyaml>=5.1\n",
      "  Downloading PyYAML-6.0-cp37-cp37m-manylinux_2_5_x86_64.manylinux1_x86_64.manylinux_2_12_x86_64.manylinux2010_x86_64.whl (596 kB)\n",
      "\u001b[K     |████████████████████████████████| 596 kB 53.1 MB/s \n",
      "\u001b[?25hCollecting tokenizers!=0.11.3,<0.13,>=0.11.1\n",
      "  Downloading tokenizers-0.12.1-cp37-cp37m-manylinux_2_12_x86_64.manylinux2010_x86_64.whl (6.6 MB)\n",
      "\u001b[K     |████████████████████████████████| 6.6 MB 9.4 MB/s \n",
      "\u001b[?25hRequirement already satisfied: packaging>=20.0 in /usr/local/lib/python3.7/dist-packages (from transformers<5.0.0,>=4.6.0->sentence-transformers) (21.3)\n",
      "Requirement already satisfied: pyparsing!=3.0.5,>=2.0.2 in /usr/local/lib/python3.7/dist-packages (from packaging>=20.0->transformers<5.0.0,>=4.6.0->sentence-transformers) (3.0.9)\n",
      "Requirement already satisfied: zipp>=0.5 in /usr/local/lib/python3.7/dist-packages (from importlib-metadata->transformers<5.0.0,>=4.6.0->sentence-transformers) (3.8.0)\n",
      "Requirement already satisfied: click in /usr/local/lib/python3.7/dist-packages (from nltk->sentence-transformers) (7.1.2)\n",
      "Requirement already satisfied: joblib in /usr/local/lib/python3.7/dist-packages (from nltk->sentence-transformers) (1.1.0)\n",
      "Requirement already satisfied: certifi>=2017.4.17 in /usr/local/lib/python3.7/dist-packages (from requests->transformers<5.0.0,>=4.6.0->sentence-transformers) (2022.6.15)\n",
      "Requirement already satisfied: chardet<4,>=3.0.2 in /usr/local/lib/python3.7/dist-packages (from requests->transformers<5.0.0,>=4.6.0->sentence-transformers) (3.0.4)\n",
      "Requirement already satisfied: idna<3,>=2.5 in /usr/local/lib/python3.7/dist-packages (from requests->transformers<5.0.0,>=4.6.0->sentence-transformers) (2.10)\n",
      "Requirement already satisfied: urllib3!=1.25.0,!=1.25.1,<1.26,>=1.21.1 in /usr/local/lib/python3.7/dist-packages (from requests->transformers<5.0.0,>=4.6.0->sentence-transformers) (1.24.3)\n",
      "Requirement already satisfied: threadpoolctl>=2.0.0 in /usr/local/lib/python3.7/dist-packages (from scikit-learn->sentence-transformers) (3.1.0)\n",
      "Requirement already satisfied: pillow!=8.3.*,>=5.3.0 in /usr/local/lib/python3.7/dist-packages (from torchvision->sentence-transformers) (7.1.2)\n",
      "Building wheels for collected packages: sentence-transformers\n",
      "  Building wheel for sentence-transformers (setup.py) ... \u001b[?25l\u001b[?25hdone\n",
      "  Created wheel for sentence-transformers: filename=sentence_transformers-2.2.0-py3-none-any.whl size=120747 sha256=2f103006bee1fbe20bfaff76b8468707c4a0d43d3afd4250f2eb162144af76e5\n",
      "  Stored in directory: /root/.cache/pip/wheels/83/c0/df/b6873ab7aac3f2465aa9144b6b4c41c4391cfecc027c8b07e7\n",
      "Successfully built sentence-transformers\n",
      "Installing collected packages: pyyaml, tokenizers, huggingface-hub, transformers, sentencepiece, sentence-transformers\n",
      "  Attempting uninstall: pyyaml\n",
      "    Found existing installation: PyYAML 3.13\n",
      "    Uninstalling PyYAML-3.13:\n",
      "      Successfully uninstalled PyYAML-3.13\n",
      "Successfully installed huggingface-hub-0.7.0 pyyaml-6.0 sentence-transformers-2.2.0 sentencepiece-0.1.96 tokenizers-0.12.1 transformers-4.20.0\n"
     ]
    }
   ],
   "source": [
    "!pip3 install sentence-transformers\n",
    "from sentence_transformers import SentenceTransformer"
   ]
  },
  {
   "cell_type": "markdown",
   "metadata": {
    "id": "fAj9STfHJx5e"
   },
   "source": [
    "##Data"
   ]
  },
  {
   "cell_type": "code",
   "execution_count": 3,
   "metadata": {
    "colab": {
     "base_uri": "https://localhost:8080/"
    },
    "id": "KE2XWcaGLhtj",
    "outputId": "ec8b2263-8c67-4050-e60c-247229cead86"
   },
   "outputs": [
    {
     "name": "stdout",
     "output_type": "stream",
     "text": [
      "Mounted at /content/drive\n"
     ]
    }
   ],
   "source": [
    "from google.colab import drive\n",
    "drive.mount('/content/drive')"
   ]
  },
  {
   "cell_type": "code",
   "execution_count": 4,
   "metadata": {
    "colab": {
     "base_uri": "https://localhost:8080/"
    },
    "id": "jqdIPaBMKUqq",
    "outputId": "47f9e4ff-f6c6-4a51-dab0-bcd466336c37"
   },
   "outputs": [
    {
     "name": "stdout",
     "output_type": "stream",
     "text": [
      "Done\n"
     ]
    }
   ],
   "source": [
    "from zipfile import ZipFile\n",
    "file_name=\"/content/drive/MyDrive/book.zip\"\n",
    "with ZipFile (file_name,'r') as zip:\n",
    "   zip.extractall()\n",
    "   print('Done')"
   ]
  },
  {
   "cell_type": "code",
   "execution_count": null,
   "metadata": {
    "id": "NOO8pixmIedj"
   },
   "outputs": [],
   "source": [
    "#Load pre-trained SentenceBERT model\n",
    "#bert = SentenceTransformer('bert-base-nli-mean-tokens')"
   ]
  },
  {
   "cell_type": "code",
   "execution_count": 5,
   "metadata": {
    "id": "OyC_UR_KNIuE"
   },
   "outputs": [],
   "source": [
    "book = pd.read_csv('Books.csv', header=0)"
   ]
  },
  {
   "cell_type": "code",
   "execution_count": 6,
   "metadata": {
    "id": "jEaFhfFhol0w"
   },
   "outputs": [],
   "source": [
    "book1 =  book.sample(frac=0.02)"
   ]
  },
  {
   "cell_type": "code",
   "execution_count": 19,
   "metadata": {
    "colab": {
     "base_uri": "https://localhost:8080/"
    },
    "id": "lDjs26gusjXX",
    "outputId": "654634b6-fffe-4787-e876-dfec0e2f2989"
   },
   "outputs": [
    {
     "data": {
      "text/plain": [
       "(5427, 8)"
      ]
     },
     "execution_count": 19,
     "metadata": {},
     "output_type": "execute_result"
    }
   ],
   "source": [
    "book1.shape"
   ]
  },
  {
   "cell_type": "code",
   "execution_count": 20,
   "metadata": {
    "id": "a97JKm9jwnHp"
   },
   "outputs": [],
   "source": [
    "book1['Book-Author'].fillna(book1['Book-Title'],inplace=True)"
   ]
  },
  {
   "cell_type": "code",
   "execution_count": 21,
   "metadata": {
    "id": "IfleVGX6wn6X"
   },
   "outputs": [],
   "source": [
    "book1['Publisher'].fillna(book1['Book-Title'],inplace=True)"
   ]
  },
  {
   "cell_type": "code",
   "execution_count": 27,
   "metadata": {
    "id": "0gEq9RSUw9iW"
   },
   "outputs": [],
   "source": [
    "book1['Year-Of-Publication'] =book1['Year-Of-Publication'].astype(int)"
   ]
  },
  {
   "cell_type": "code",
   "execution_count": 28,
   "metadata": {
    "id": "ShvJKTPvxALw"
   },
   "outputs": [],
   "source": [
    "threshold_date = 2022\n",
    "books = book1[book1['Year-Of-Publication'] < threshold_date]"
   ]
  },
  {
   "cell_type": "code",
   "execution_count": 34,
   "metadata": {
    "colab": {
     "base_uri": "https://localhost:8080/"
    },
    "id": "OtPLlbRoxR2o",
    "outputId": "ec6f8764-4d2a-416a-8ea8-f6977d847e4a"
   },
   "outputs": [
    {
     "data": {
      "text/plain": [
       "(5427, 8)"
      ]
     },
     "execution_count": 34,
     "metadata": {},
     "output_type": "execute_result"
    }
   ],
   "source": [
    "book1.shape"
   ]
  },
  {
   "cell_type": "code",
   "execution_count": 29,
   "metadata": {
    "id": "UBfw_s1TCJtv"
   },
   "outputs": [],
   "source": [
    "rating = pd.read_csv('Ratings.csv', header=0)\n",
    "user = pd.read_csv('Users.csv', header=0)"
   ]
  },
  {
   "cell_type": "code",
   "execution_count": 30,
   "metadata": {
    "colab": {
     "base_uri": "https://localhost:8080/"
    },
    "id": "8VmBiC9qptlu",
    "outputId": "b49e140c-ed1f-45ff-fb8b-6ad211bc0bcf"
   },
   "outputs": [
    {
     "data": {
      "text/plain": [
       "(1149780, 3)"
      ]
     },
     "execution_count": 30,
     "metadata": {},
     "output_type": "execute_result"
    }
   ],
   "source": [
    "rating.shape"
   ]
  },
  {
   "cell_type": "code",
   "execution_count": 31,
   "metadata": {
    "id": "nenVtf6QsMxm"
   },
   "outputs": [],
   "source": [
    "rating1 = rating[rating.ISBN.isin(book1.ISBN)]"
   ]
  },
  {
   "cell_type": "code",
   "execution_count": 32,
   "metadata": {
    "id": "XHygVF-FpJej"
   },
   "outputs": [],
   "source": [
    "rating1 = rating1[rating1['Book-Rating']!=0]"
   ]
  },
  {
   "cell_type": "code",
   "execution_count": 33,
   "metadata": {
    "colab": {
     "base_uri": "https://localhost:8080/"
    },
    "id": "-O48x_0Xpn3Z",
    "outputId": "186ba487-ec23-4b5d-bf4a-0501a30b316f"
   },
   "outputs": [
    {
     "data": {
      "text/plain": [
       "(8288, 3)"
      ]
     },
     "execution_count": 33,
     "metadata": {},
     "output_type": "execute_result"
    }
   ],
   "source": [
    "rating1.shape"
   ]
  },
  {
   "cell_type": "code",
   "execution_count": 35,
   "metadata": {
    "colab": {
     "base_uri": "https://localhost:8080/"
    },
    "id": "BnsfAwdxPS9S",
    "outputId": "192f14f7-5e15-41ea-9284-c9fa3c7e9963"
   },
   "outputs": [
    {
     "data": {
      "text/plain": [
       "(278858, 3)"
      ]
     },
     "execution_count": 35,
     "metadata": {},
     "output_type": "execute_result"
    }
   ],
   "source": [
    "user.shape"
   ]
  },
  {
   "cell_type": "markdown",
   "metadata": {
    "id": "EzKbFYPeawuw"
   },
   "source": [
    "#EDA"
   ]
  },
  {
   "cell_type": "code",
   "execution_count": 36,
   "metadata": {
    "colab": {
     "base_uri": "https://localhost:8080/"
    },
    "id": "ch5cygOGax1u",
    "outputId": "a909863d-fa7f-4e1f-aa11-6b1300e69163"
   },
   "outputs": [
    {
     "data": {
      "text/plain": [
       "ISBN                   0\n",
       "Book-Title             0\n",
       "Book-Author            0\n",
       "Year-Of-Publication    0\n",
       "Publisher              0\n",
       "Image-URL-S            0\n",
       "Image-URL-M            0\n",
       "Image-URL-L            0\n",
       "dtype: int64"
      ]
     },
     "execution_count": 36,
     "metadata": {},
     "output_type": "execute_result"
    }
   ],
   "source": [
    "book1.isnull().sum()"
   ]
  },
  {
   "cell_type": "code",
   "execution_count": 37,
   "metadata": {
    "id": "yhr6HKdzfHgC"
   },
   "outputs": [],
   "source": [
    "book1 = book1[book1['Book-Author'].notna()]"
   ]
  },
  {
   "cell_type": "code",
   "execution_count": 38,
   "metadata": {
    "colab": {
     "base_uri": "https://localhost:8080/"
    },
    "id": "Ku6Ouw53fOcy",
    "outputId": "08ed7312-1b54-43cb-ca51-de9960e30c4f"
   },
   "outputs": [
    {
     "data": {
      "text/plain": [
       "ISBN                   0\n",
       "Book-Title             0\n",
       "Book-Author            0\n",
       "Year-Of-Publication    0\n",
       "Publisher              0\n",
       "Image-URL-S            0\n",
       "Image-URL-M            0\n",
       "Image-URL-L            0\n",
       "dtype: int64"
      ]
     },
     "execution_count": 38,
     "metadata": {},
     "output_type": "execute_result"
    }
   ],
   "source": [
    "book1.isnull().sum()"
   ]
  },
  {
   "cell_type": "code",
   "execution_count": 39,
   "metadata": {
    "colab": {
     "base_uri": "https://localhost:8080/"
    },
    "id": "NvL_afqIAGo7",
    "outputId": "26136843-6332-41e7-ab8d-e20279038086"
   },
   "outputs": [
    {
     "data": {
      "text/plain": [
       "(5427, 8)"
      ]
     },
     "execution_count": 39,
     "metadata": {},
     "output_type": "execute_result"
    }
   ],
   "source": [
    "#27136\n",
    "book1.shape"
   ]
  },
  {
   "cell_type": "code",
   "execution_count": 40,
   "metadata": {
    "colab": {
     "base_uri": "https://localhost:8080/"
    },
    "id": "B3LBPVKRcBK8",
    "outputId": "0a9325eb-a518-459a-c68d-b4e15b8d3b5d"
   },
   "outputs": [
    {
     "data": {
      "text/plain": [
       "User-ID        0\n",
       "ISBN           0\n",
       "Book-Rating    0\n",
       "dtype: int64"
      ]
     },
     "execution_count": 40,
     "metadata": {},
     "output_type": "execute_result"
    }
   ],
   "source": [
    "rating.isnull().sum()"
   ]
  },
  {
   "cell_type": "code",
   "execution_count": 41,
   "metadata": {
    "colab": {
     "base_uri": "https://localhost:8080/"
    },
    "id": "O5qgiJGTnfHS",
    "outputId": "9ed0fdd3-6dc7-4c2c-b4fc-c0cd5c2a743d"
   },
   "outputs": [
    {
     "data": {
      "text/plain": [
       "ISBN                   0\n",
       "Book-Title             0\n",
       "Book-Author            0\n",
       "Year-Of-Publication    0\n",
       "Publisher              0\n",
       "Image-URL-S            0\n",
       "Image-URL-M            0\n",
       "Image-URL-L            0\n",
       "dtype: int64"
      ]
     },
     "execution_count": 41,
     "metadata": {},
     "output_type": "execute_result"
    }
   ],
   "source": [
    "book1.isnull().sum()"
   ]
  },
  {
   "cell_type": "code",
   "execution_count": 42,
   "metadata": {
    "colab": {
     "base_uri": "https://localhost:8080/",
     "height": 477
    },
    "id": "0z0hlPL5nh3D",
    "outputId": "8c296f0e-3b6a-4380-c00a-fae24ba3af81"
   },
   "outputs": [
    {
     "data": {
      "text/plain": [
       "Text(0.5, 1.0, 'Book-Author')"
      ]
     },
     "execution_count": 42,
     "metadata": {},
     "output_type": "execute_result"
    },
    {
     "data": {
      "image/png": "[encoded data removed]",
      "text/plain": [
       "<Figure size 288x288 with 1 Axes>"
      ]
     },
     "metadata": {},
     "output_type": "display_data"
    }
   ],
   "source": [
    "sns.set(font_scale= 1.4)\n",
    "book1['Book-Author'].value_counts()[:6].plot(kind='bar', figsize=(4,4), \n",
    "                                                      xlabel='Name of the Author', \n",
    "                                                      ylabel='Count')\n",
    "\n",
    "plt.title(\"Book-Author\")"
   ]
  },
  {
   "cell_type": "code",
   "execution_count": 43,
   "metadata": {
    "colab": {
     "base_uri": "https://localhost:8080/",
     "height": 411
    },
    "id": "TYLvu91TokRF",
    "outputId": "a35e4c11-9eb8-45cd-edad-e7e557a552e9"
   },
   "outputs": [
    {
     "data": {
      "text/plain": [
       "Text(0.5, 1.0, 'Year-Of-Publication')"
      ]
     },
     "execution_count": 43,
     "metadata": {},
     "output_type": "execute_result"
    },
    {
     "data": {
      "image/png": "[encoded data removed]",
      "text/plain": [
       "<Figure size 288x360 with 1 Axes>"
      ]
     },
     "metadata": {},
     "output_type": "display_data"
    }
   ],
   "source": [
    "sns.set(font_scale= 1.4)\n",
    "book1['Year-Of-Publication'].value_counts()[:6].plot(kind='bar', figsize=(4,5), \n",
    "                                                      xlabel='Year of Publication', \n",
    "                                                      ylabel='Count')\n",
    "\n",
    "plt.title(\"Year-Of-Publication\")"
   ]
  },
  {
   "cell_type": "code",
   "execution_count": 44,
   "metadata": {
    "colab": {
     "base_uri": "https://localhost:8080/"
    },
    "id": "TJB2q__ZtSfg",
    "outputId": "532720b1-347c-41e9-9234-7834ef98ea3f"
   },
   "outputs": [
    {
     "name": "stdout",
     "output_type": "stream",
     "text": [
      "<class 'pandas.core.frame.DataFrame'>\n",
      "Int64Index: 5427 entries, 248247 to 204270\n",
      "Data columns (total 8 columns):\n",
      " #   Column               Non-Null Count  Dtype \n",
      "---  ------               --------------  ----- \n",
      " 0   ISBN                 5427 non-null   object\n",
      " 1   Book-Title           5427 non-null   object\n",
      " 2   Book-Author          5427 non-null   object\n",
      " 3   Year-Of-Publication  5427 non-null   int64 \n",
      " 4   Publisher            5427 non-null   object\n",
      " 5   Image-URL-S          5427 non-null   object\n",
      " 6   Image-URL-M          5427 non-null   object\n",
      " 7   Image-URL-L          5427 non-null   object\n",
      "dtypes: int64(1), object(7)\n",
      "memory usage: 381.6+ KB\n"
     ]
    }
   ],
   "source": [
    "book1.info()"
   ]
  },
  {
   "cell_type": "code",
   "execution_count": 61,
   "metadata": {
    "id": "zlVUU4As1kyw"
   },
   "outputs": [],
   "source": [
    "df1 = rating1.merge(books, how=\"left\", on=\"ISBN\")"
   ]
  },
  {
   "cell_type": "code",
   "execution_count": 63,
   "metadata": {
    "colab": {
     "base_uri": "https://localhost:8080/"
    },
    "id": "lefR7UFH1v8U",
    "outputId": "9217e370-03a6-49ac-cd9b-a3bd4bd77914"
   },
   "outputs": [
    {
     "data": {
      "text/plain": [
       "(8288, 10)"
      ]
     },
     "execution_count": 63,
     "metadata": {},
     "output_type": "execute_result"
    }
   ],
   "source": [
    "df1.shape"
   ]
  },
  {
   "cell_type": "markdown",
   "metadata": {
    "id": "ZJ4sZLiixumP"
   },
   "source": [
    "## Popularity Recommender"
   ]
  },
  {
   "cell_type": "code",
   "execution_count": 67,
   "metadata": {
    "colab": {
     "base_uri": "https://localhost:8080/"
    },
    "id": "hDN3-DWeibrh",
    "outputId": "e3a307d7-fc06-4aa6-e8b9-f8f1b08e7888"
   },
   "outputs": [
    {
     "name": "stdout",
     "output_type": "stream",
     "text": [
      "Training data size: (4019, 10)\n",
      "Testing data size: (4269, 10)\n"
     ]
    }
   ],
   "source": [
    "#1149780\n",
    "threshold_date = 1998\n",
    "ids = book1[book1['Year-Of-Publication'] < threshold_date]['ISBN'].values\n",
    "\n",
    "training_data = df1[df1['ISBN'].isin(ids)]\n",
    "print(f'Training data size: {training_data.shape}')\n",
    "\n",
    "#~ is not in ratings\n",
    "testing_data = df1[~df1['ISBN'].isin(ids)]\n",
    "print(f'Testing data size: {testing_data.shape}')"
   ]
  },
  {
   "cell_type": "code",
   "execution_count": 68,
   "metadata": {
    "colab": {
     "base_uri": "https://localhost:8080/"
    },
    "id": "P8kVsLblzxSY",
    "outputId": "485f0764-8741-430f-8854-e70adde697b4"
   },
   "outputs": [
    {
     "data": {
      "text/plain": [
       "(1249, 10)"
      ]
     },
     "execution_count": 68,
     "metadata": {},
     "output_type": "execute_result"
    }
   ],
   "source": [
    "testing_data = testing_data[testing_data['User-ID'].isin(training_data['User-ID'])]\n",
    "testing_data.shape"
   ]
  },
  {
   "cell_type": "code",
   "execution_count": 51,
   "metadata": {
    "id": "VpiqJbEZuQlT"
   },
   "outputs": [],
   "source": [
    "def get_favorite_books(user_id, ratings_df):\n",
    "    favorites = ratings_df[(ratings_df['User-ID'] == user_id) & (ratings_df['Book-Rating'] >= 3.5)].sort_values(by='Book-Rating', ascending=False)['ISBN']\n",
    "    return set(favorites if type(favorites) == pd.Series else [favorites])"
   ]
  },
  {
   "cell_type": "code",
   "execution_count": 52,
   "metadata": {
    "id": "gLnYOeKJudVp"
   },
   "outputs": [],
   "source": [
    "class ModelEvaluator:\n",
    "  def __init__(self, training_data, testing_data, threshold=6.5):\n",
    "    self.training_data = training_data\n",
    "    self.testing_data = testing_data\n",
    "    self.threshold = threshold\n",
    "\n",
    "  def evaluate_model_for_user(self, model, user_id):\n",
    "      #Getting the items in test set\n",
    "      favorites_in_test = get_favorite_books(user_id, self.testing_data)\n",
    "      #print(favorites_in_test)\n",
    "      \n",
    "      #Getting a ranked recommendation list from a model for a given user (movieId, predicted_rating)\n",
    "      person_recs_df = model.recommend_items(user_id, \n",
    "                                              items_to_ignore=get_favorite_books(user_id, self.training_data))\n",
    "     # print(person_recs_df)\n",
    "      # get only movies with predicated rating >= 3.5\n",
    "      person_recs_df = person_recs_df[person_recs_df['predicted_rating'] >= self.threshold].sort_values(by='predicted_rating', ascending=False)\n",
    "      true_relevent = person_recs_df[person_recs_df['ISBN'].isin(favorites_in_test)].shape[0]\n",
    "\n",
    "      top_5_recommended = person_recs_df.head(5)\n",
    "      top_10_recommended = person_recs_df.head(10)\n",
    "\n",
    "      # Number of relevant and recommended items in top k\n",
    "      hits_at_5_count = top_5_recommended[top_5_recommended['ISBN'].isin(favorites_in_test)].shape[0]\n",
    "      hits_at_10_count = top_10_recommended[top_10_recommended['ISBN'].isin(favorites_in_test)].shape[0]\n",
    "\n",
    "      precision_at_5 = hits_at_5_count / top_5_recommended.shape[0] if top_5_recommended.shape[0] != 0 else 1\n",
    "      recall_at_5 = hits_at_5_count / true_relevent if true_relevent != 0 else 1\n",
    "\n",
    "      precision_at_10 = hits_at_10_count / top_10_recommended.shape[0] if top_10_recommended.shape[0] != 0 else 1\n",
    "      recall_at_10 = hits_at_10_count / true_relevent if true_relevent != 0 else 1\n",
    "\n",
    "      person_metrics = {'hits@5_count':hits_at_5_count, \n",
    "                        'hits@10_count':hits_at_10_count,\n",
    "                        'recommended@5_count':top_5_recommended.shape[0], \n",
    "                        'recommended@10_count':top_10_recommended.shape[0],  \n",
    "                        'relevents': true_relevent,\n",
    "                        'recall@5': recall_at_5,\n",
    "                        'recall@10': recall_at_10,\n",
    "                        'precision@5': precision_at_5,\n",
    "                        'precision@10': precision_at_10}\n",
    "      return person_metrics\n",
    "\n",
    "\n",
    "  def evaluate_model(self, model):\n",
    "      #print('Running evaluation for users')\n",
    "      users_metrics = []\n",
    "      users_ids = list(set(self.testing_data['User-ID'].values))\n",
    "      for idx, user_id in enumerate(users_ids):\n",
    "          metrics = self.evaluate_model_for_user(model, user_id)  \n",
    "          metrics['User-ID'] = user_id\n",
    "          users_metrics.append(metrics)\n",
    "      print('%d users processed' % idx)\n",
    "\n",
    "      detailed_results_df = pd.DataFrame(users_metrics) \\\n",
    "                          .sort_values('hits@5_count', ascending=False)\n",
    "      \n",
    "      global_recall_at_5 = detailed_results_df['hits@5_count'].sum() / float(detailed_results_df['relevents'].sum())\n",
    "      global_recall_at_10 = detailed_results_df['hits@10_count'].sum() / float(detailed_results_df['relevents'].sum())\n",
    "      \n",
    "      global_precision_at_5 = detailed_results_df['hits@5_count'].sum() / float(detailed_results_df['recommended@5_count'].sum())\n",
    "      global_precision_at_10 = detailed_results_df['hits@10_count'].sum() / float(detailed_results_df['recommended@10_count'].sum())\n",
    "\n",
    "      global_metrics = {'modelName': model.get_model_name(),\n",
    "                        'recall@5': global_recall_at_5,\n",
    "                        'recall@10': global_recall_at_10,\n",
    "                        'precision@5': global_precision_at_5,\n",
    "                        'precision@10': global_precision_at_10}    \n",
    "      return global_metrics, detailed_results_df\n",
    "    \n",
    "model_evaluator = ModelEvaluator(training_data, testing_data)              "
   ]
  },
  {
   "cell_type": "code",
   "execution_count": 53,
   "metadata": {
    "id": "EwMutHf2zBnH"
   },
   "outputs": [],
   "source": [
    "model_evaluator = ModelEvaluator(training_data, testing_data)   "
   ]
  },
  {
   "cell_type": "code",
   "execution_count": 69,
   "metadata": {
    "id": "0XTsdtHLvLbt"
   },
   "outputs": [],
   "source": [
    "populartiy = df1.groupby('ISBN').agg({'Book-Rating': ['mean', 'count']}).reset_index()\n",
    "#populartiy = rating.groupby('ISBN').agg({'Book-Rating': ['mean', 'count']}).reset_index()\n",
    "populartiy.columns = ['ISBN', 'ratings_mean', 'ratings_count']\n",
    "populartiy =populartiy.sort_values(by='ratings_mean', ascending=False)"
   ]
  },
  {
   "cell_type": "code",
   "execution_count": 70,
   "metadata": {
    "colab": {
     "base_uri": "https://localhost:8080/",
     "height": 206
    },
    "id": "xKQQ1jGK1Pin",
    "outputId": "e8f03abe-23fe-43ed-84a2-3ce88a3beb4b"
   },
   "outputs": [
    {
     "data": {
      "text/html": [
       "\n",
       "  <div id=\"df-f19c09ac-a7ab-45d2-8506-5044762e6a3f\">\n",
       "    <div class=\"colab-df-container\">\n",
       "      <div>\n",
       "<style scoped>\n",
       "    .dataframe tbody tr th:only-of-type {\n",
       "        vertical-align: middle;\n",
       "    }\n",
       "\n",
       "    .dataframe tbody tr th {\n",
       "        vertical-align: top;\n",
       "    }\n",
       "\n",
       "    .dataframe thead th {\n",
       "        text-align: right;\n",
       "    }\n",
       "</style>\n",
       "<table border=\"1\" class=\"dataframe\">\n",
       "  <thead>\n",
       "    <tr style=\"text-align: right;\">\n",
       "      <th></th>\n",
       "      <th>ISBN</th>\n",
       "      <th>ratings_mean</th>\n",
       "      <th>ratings_count</th>\n",
       "    </tr>\n",
       "  </thead>\n",
       "  <tbody>\n",
       "    <tr>\n",
       "      <th>2976</th>\n",
       "      <td>B0001I1KOG</td>\n",
       "      <td>10.0</td>\n",
       "      <td>1</td>\n",
       "    </tr>\n",
       "    <tr>\n",
       "      <th>1598</th>\n",
       "      <td>0679991638</td>\n",
       "      <td>10.0</td>\n",
       "      <td>1</td>\n",
       "    </tr>\n",
       "    <tr>\n",
       "      <th>2404</th>\n",
       "      <td>155936209X</td>\n",
       "      <td>10.0</td>\n",
       "      <td>1</td>\n",
       "    </tr>\n",
       "    <tr>\n",
       "      <th>2401</th>\n",
       "      <td>1558851305</td>\n",
       "      <td>10.0</td>\n",
       "      <td>1</td>\n",
       "    </tr>\n",
       "    <tr>\n",
       "      <th>452</th>\n",
       "      <td>0340514426</td>\n",
       "      <td>10.0</td>\n",
       "      <td>1</td>\n",
       "    </tr>\n",
       "  </tbody>\n",
       "</table>\n",
       "</div>\n",
       "      <button class=\"colab-df-convert\" onclick=\"convertToInteractive('df-f19c09ac-a7ab-45d2-8506-5044762e6a3f')\"\n",
       "              title=\"Convert this dataframe to an interactive table.\"\n",
       "              style=\"display:none;\">\n",
       "        \n",
       "  <svg xmlns=\"http://www.w3.org/2000/svg\" height=\"24px\"viewBox=\"0 0 24 24\"\n",
       "       width=\"24px\">\n",
       "    <path d=\"M0 0h24v24H0V0z\" fill=\"none\"/>\n",
       "    <path d=\"M18.56 5.44l.94 2.06.94-2.06 2.06-.94-2.06-.94-.94-2.06-.94 2.06-2.06.94zm-11 1L8.5 8.5l.94-2.06 2.06-.94-2.06-.94L8.5 2.5l-.94 2.06-2.06.94zm10 10l.94 2.06.94-2.06 2.06-.94-2.06-.94-.94-2.06-.94 2.06-2.06.94z\"/><path d=\"M17.41 7.96l-1.37-1.37c-.4-.4-.92-.59-1.43-.59-.52 0-1.04.2-1.43.59L10.3 9.45l-7.72 7.72c-.78.78-.78 2.05 0 2.83L4 21.41c.39.39.9.59 1.41.59.51 0 1.02-.2 1.41-.59l7.78-7.78 2.81-2.81c.8-.78.8-2.07 0-2.86zM5.41 20L4 18.59l7.72-7.72 1.47 1.35L5.41 20z\"/>\n",
       "  </svg>\n",
       "      </button>\n",
       "      \n",
       "  <style>\n",
       "    .colab-df-container {\n",
       "      display:flex;\n",
       "      flex-wrap:wrap;\n",
       "      gap: 12px;\n",
       "    }\n",
       "\n",
       "    .colab-df-convert {\n",
       "      background-color: #E8F0FE;\n",
       "      border: none;\n",
       "      border-radius: 50%;\n",
       "      cursor: pointer;\n",
       "      display: none;\n",
       "      fill: #1967D2;\n",
       "      height: 32px;\n",
       "      padding: 0 0 0 0;\n",
       "      width: 32px;\n",
       "    }\n",
       "\n",
       "    .colab-df-convert:hover {\n",
       "      background-color: #E2EBFA;\n",
       "      box-shadow: 0px 1px 2px rgba(60, 64, 67, 0.3), 0px 1px 3px 1px rgba(60, 64, 67, 0.15);\n",
       "      fill: #174EA6;\n",
       "    }\n",
       "\n",
       "    [theme=dark] .colab-df-convert {\n",
       "      background-color: #3B4455;\n",
       "      fill: #D2E3FC;\n",
       "    }\n",
       "\n",
       "    [theme=dark] .colab-df-convert:hover {\n",
       "      background-color: #434B5C;\n",
       "      box-shadow: 0px 1px 3px 1px rgba(0, 0, 0, 0.15);\n",
       "      filter: drop-shadow(0px 1px 2px rgba(0, 0, 0, 0.3));\n",
       "      fill: #FFFFFF;\n",
       "    }\n",
       "  </style>\n",
       "\n",
       "      <script>\n",
       "        const buttonEl =\n",
       "          document.querySelector('#df-f19c09ac-a7ab-45d2-8506-5044762e6a3f button.colab-df-convert');\n",
       "        buttonEl.style.display =\n",
       "          google.colab.kernel.accessAllowed ? 'block' : 'none';\n",
       "\n",
       "        async function convertToInteractive(key) {\n",
       "          const element = document.querySelector('#df-f19c09ac-a7ab-45d2-8506-5044762e6a3f');\n",
       "          const dataTable =\n",
       "            await google.colab.kernel.invokeFunction('convertToInteractive',\n",
       "                                                     [key], {});\n",
       "          if (!dataTable) return;\n",
       "\n",
       "          const docLinkHtml = 'Like what you see? Visit the ' +\n",
       "            '<a target=\"_blank\" href=https://colab.research.google.com/notebooks/data_table.ipynb>data table notebook</a>'\n",
       "            + ' to learn more about interactive tables.';\n",
       "          element.innerHTML = '';\n",
       "          dataTable['output_type'] = 'display_data';\n",
       "          await google.colab.output.renderOutput(dataTable, element);\n",
       "          const docLink = document.createElement('div');\n",
       "          docLink.innerHTML = docLinkHtml;\n",
       "          element.appendChild(docLink);\n",
       "        }\n",
       "      </script>\n",
       "    </div>\n",
       "  </div>\n",
       "  "
      ],
      "text/plain": [
       "            ISBN  ratings_mean  ratings_count\n",
       "2976  B0001I1KOG          10.0              1\n",
       "1598  0679991638          10.0              1\n",
       "2404  155936209X          10.0              1\n",
       "2401  1558851305          10.0              1\n",
       "452   0340514426          10.0              1"
      ]
     },
     "execution_count": 70,
     "metadata": {},
     "output_type": "execute_result"
    }
   ],
   "source": [
    "populartiy.head()"
   ]
  },
  {
   "cell_type": "code",
   "execution_count": 72,
   "metadata": {
    "id": "s0VboslBwPNe"
   },
   "outputs": [],
   "source": [
    "df2 = populartiy.merge(df1, how=\"left\", on=\"ISBN\")"
   ]
  },
  {
   "cell_type": "code",
   "execution_count": 73,
   "metadata": {
    "id": "0PMivfCSC8Mn"
   },
   "outputs": [],
   "source": [
    "df3 = df2[['ISBN', 'Year-Of-Publication','ratings_mean','ratings_count']]"
   ]
  },
  {
   "cell_type": "code",
   "execution_count": 74,
   "metadata": {
    "colab": {
     "base_uri": "https://localhost:8080/",
     "height": 363
    },
    "id": "ubeRuGJ0Diu9",
    "outputId": "cb16e1a6-feef-49b9-ec94-b050de169168"
   },
   "outputs": [
    {
     "data": {
      "text/html": [
       "\n",
       "  <div id=\"df-473a070e-fdf5-471b-ade8-ff2e5c7df0ad\">\n",
       "    <div class=\"colab-df-container\">\n",
       "      <div>\n",
       "<style scoped>\n",
       "    .dataframe tbody tr th:only-of-type {\n",
       "        vertical-align: middle;\n",
       "    }\n",
       "\n",
       "    .dataframe tbody tr th {\n",
       "        vertical-align: top;\n",
       "    }\n",
       "\n",
       "    .dataframe thead th {\n",
       "        text-align: right;\n",
       "    }\n",
       "</style>\n",
       "<table border=\"1\" class=\"dataframe\">\n",
       "  <thead>\n",
       "    <tr style=\"text-align: right;\">\n",
       "      <th></th>\n",
       "      <th>ISBN</th>\n",
       "      <th>Year-Of-Publication</th>\n",
       "      <th>ratings_mean</th>\n",
       "      <th>ratings_count</th>\n",
       "    </tr>\n",
       "  </thead>\n",
       "  <tbody>\n",
       "    <tr>\n",
       "      <th>0</th>\n",
       "      <td>B0001I1KOG</td>\n",
       "      <td>2001</td>\n",
       "      <td>10.0</td>\n",
       "      <td>1</td>\n",
       "    </tr>\n",
       "    <tr>\n",
       "      <th>1</th>\n",
       "      <td>0679991638</td>\n",
       "      <td>1998</td>\n",
       "      <td>10.0</td>\n",
       "      <td>1</td>\n",
       "    </tr>\n",
       "    <tr>\n",
       "      <th>2</th>\n",
       "      <td>155936209X</td>\n",
       "      <td>2002</td>\n",
       "      <td>10.0</td>\n",
       "      <td>1</td>\n",
       "    </tr>\n",
       "    <tr>\n",
       "      <th>3</th>\n",
       "      <td>1558851305</td>\n",
       "      <td>1995</td>\n",
       "      <td>10.0</td>\n",
       "      <td>1</td>\n",
       "    </tr>\n",
       "    <tr>\n",
       "      <th>4</th>\n",
       "      <td>0340514426</td>\n",
       "      <td>1990</td>\n",
       "      <td>10.0</td>\n",
       "      <td>1</td>\n",
       "    </tr>\n",
       "    <tr>\n",
       "      <th>5</th>\n",
       "      <td>0679769420</td>\n",
       "      <td>1998</td>\n",
       "      <td>10.0</td>\n",
       "      <td>1</td>\n",
       "    </tr>\n",
       "    <tr>\n",
       "      <th>6</th>\n",
       "      <td>0679875913</td>\n",
       "      <td>1995</td>\n",
       "      <td>10.0</td>\n",
       "      <td>1</td>\n",
       "    </tr>\n",
       "    <tr>\n",
       "      <th>7</th>\n",
       "      <td>1557486603</td>\n",
       "      <td>1998</td>\n",
       "      <td>10.0</td>\n",
       "      <td>1</td>\n",
       "    </tr>\n",
       "    <tr>\n",
       "      <th>8</th>\n",
       "      <td>1556508204</td>\n",
       "      <td>1998</td>\n",
       "      <td>10.0</td>\n",
       "      <td>1</td>\n",
       "    </tr>\n",
       "    <tr>\n",
       "      <th>9</th>\n",
       "      <td>0373224982</td>\n",
       "      <td>1998</td>\n",
       "      <td>10.0</td>\n",
       "      <td>1</td>\n",
       "    </tr>\n",
       "  </tbody>\n",
       "</table>\n",
       "</div>\n",
       "      <button class=\"colab-df-convert\" onclick=\"convertToInteractive('df-473a070e-fdf5-471b-ade8-ff2e5c7df0ad')\"\n",
       "              title=\"Convert this dataframe to an interactive table.\"\n",
       "              style=\"display:none;\">\n",
       "        \n",
       "  <svg xmlns=\"http://www.w3.org/2000/svg\" height=\"24px\"viewBox=\"0 0 24 24\"\n",
       "       width=\"24px\">\n",
       "    <path d=\"M0 0h24v24H0V0z\" fill=\"none\"/>\n",
       "    <path d=\"M18.56 5.44l.94 2.06.94-2.06 2.06-.94-2.06-.94-.94-2.06-.94 2.06-2.06.94zm-11 1L8.5 8.5l.94-2.06 2.06-.94-2.06-.94L8.5 2.5l-.94 2.06-2.06.94zm10 10l.94 2.06.94-2.06 2.06-.94-2.06-.94-.94-2.06-.94 2.06-2.06.94z\"/><path d=\"M17.41 7.96l-1.37-1.37c-.4-.4-.92-.59-1.43-.59-.52 0-1.04.2-1.43.59L10.3 9.45l-7.72 7.72c-.78.78-.78 2.05 0 2.83L4 21.41c.39.39.9.59 1.41.59.51 0 1.02-.2 1.41-.59l7.78-7.78 2.81-2.81c.8-.78.8-2.07 0-2.86zM5.41 20L4 18.59l7.72-7.72 1.47 1.35L5.41 20z\"/>\n",
       "  </svg>\n",
       "      </button>\n",
       "      \n",
       "  <style>\n",
       "    .colab-df-container {\n",
       "      display:flex;\n",
       "      flex-wrap:wrap;\n",
       "      gap: 12px;\n",
       "    }\n",
       "\n",
       "    .colab-df-convert {\n",
       "      background-color: #E8F0FE;\n",
       "      border: none;\n",
       "      border-radius: 50%;\n",
       "      cursor: pointer;\n",
       "      display: none;\n",
       "      fill: #1967D2;\n",
       "      height: 32px;\n",
       "      padding: 0 0 0 0;\n",
       "      width: 32px;\n",
       "    }\n",
       "\n",
       "    .colab-df-convert:hover {\n",
       "      background-color: #E2EBFA;\n",
       "      box-shadow: 0px 1px 2px rgba(60, 64, 67, 0.3), 0px 1px 3px 1px rgba(60, 64, 67, 0.15);\n",
       "      fill: #174EA6;\n",
       "    }\n",
       "\n",
       "    [theme=dark] .colab-df-convert {\n",
       "      background-color: #3B4455;\n",
       "      fill: #D2E3FC;\n",
       "    }\n",
       "\n",
       "    [theme=dark] .colab-df-convert:hover {\n",
       "      background-color: #434B5C;\n",
       "      box-shadow: 0px 1px 3px 1px rgba(0, 0, 0, 0.15);\n",
       "      filter: drop-shadow(0px 1px 2px rgba(0, 0, 0, 0.3));\n",
       "      fill: #FFFFFF;\n",
       "    }\n",
       "  </style>\n",
       "\n",
       "      <script>\n",
       "        const buttonEl =\n",
       "          document.querySelector('#df-473a070e-fdf5-471b-ade8-ff2e5c7df0ad button.colab-df-convert');\n",
       "        buttonEl.style.display =\n",
       "          google.colab.kernel.accessAllowed ? 'block' : 'none';\n",
       "\n",
       "        async function convertToInteractive(key) {\n",
       "          const element = document.querySelector('#df-473a070e-fdf5-471b-ade8-ff2e5c7df0ad');\n",
       "          const dataTable =\n",
       "            await google.colab.kernel.invokeFunction('convertToInteractive',\n",
       "                                                     [key], {});\n",
       "          if (!dataTable) return;\n",
       "\n",
       "          const docLinkHtml = 'Like what you see? Visit the ' +\n",
       "            '<a target=\"_blank\" href=https://colab.research.google.com/notebooks/data_table.ipynb>data table notebook</a>'\n",
       "            + ' to learn more about interactive tables.';\n",
       "          element.innerHTML = '';\n",
       "          dataTable['output_type'] = 'display_data';\n",
       "          await google.colab.output.renderOutput(dataTable, element);\n",
       "          const docLink = document.createElement('div');\n",
       "          docLink.innerHTML = docLinkHtml;\n",
       "          element.appendChild(docLink);\n",
       "        }\n",
       "      </script>\n",
       "    </div>\n",
       "  </div>\n",
       "  "
      ],
      "text/plain": [
       "         ISBN  Year-Of-Publication  ratings_mean  ratings_count\n",
       "0  B0001I1KOG                 2001          10.0              1\n",
       "1  0679991638                 1998          10.0              1\n",
       "2  155936209X                 2002          10.0              1\n",
       "3  1558851305                 1995          10.0              1\n",
       "4  0340514426                 1990          10.0              1\n",
       "5  0679769420                 1998          10.0              1\n",
       "6  0679875913                 1995          10.0              1\n",
       "7  1557486603                 1998          10.0              1\n",
       "8  1556508204                 1998          10.0              1\n",
       "9  0373224982                 1998          10.0              1"
      ]
     },
     "execution_count": 74,
     "metadata": {},
     "output_type": "execute_result"
    }
   ],
   "source": [
    "df3.head(10)"
   ]
  },
  {
   "cell_type": "code",
   "execution_count": 75,
   "metadata": {
    "id": "WgK0Qk6OEdUw"
   },
   "outputs": [],
   "source": [
    "finall = pd.DataFrame()"
   ]
  },
  {
   "cell_type": "code",
   "execution_count": 76,
   "metadata": {
    "id": "sE6R11_sDrSZ"
   },
   "outputs": [],
   "source": [
    "finall = df3.sort_values(by='Year-Of-Publication', ascending=False)"
   ]
  },
  {
   "cell_type": "code",
   "execution_count": 77,
   "metadata": {
    "colab": {
     "base_uri": "https://localhost:8080/",
     "height": 206
    },
    "id": "qtzMSGMbENIq",
    "outputId": "b56cf80d-9844-4108-eb2f-bd257c25612c"
   },
   "outputs": [
    {
     "data": {
      "text/html": [
       "\n",
       "  <div id=\"df-65a128ee-85ad-49a4-ae4a-3a3a0c0e4cfe\">\n",
       "    <div class=\"colab-df-container\">\n",
       "      <div>\n",
       "<style scoped>\n",
       "    .dataframe tbody tr th:only-of-type {\n",
       "        vertical-align: middle;\n",
       "    }\n",
       "\n",
       "    .dataframe tbody tr th {\n",
       "        vertical-align: top;\n",
       "    }\n",
       "\n",
       "    .dataframe thead th {\n",
       "        text-align: right;\n",
       "    }\n",
       "</style>\n",
       "<table border=\"1\" class=\"dataframe\">\n",
       "  <thead>\n",
       "    <tr style=\"text-align: right;\">\n",
       "      <th></th>\n",
       "      <th>ISBN</th>\n",
       "      <th>Year-Of-Publication</th>\n",
       "      <th>ratings_mean</th>\n",
       "      <th>ratings_count</th>\n",
       "    </tr>\n",
       "  </thead>\n",
       "  <tbody>\n",
       "    <tr>\n",
       "      <th>6643</th>\n",
       "      <td>068160204X</td>\n",
       "      <td>2020</td>\n",
       "      <td>7.0</td>\n",
       "      <td>1</td>\n",
       "    </tr>\n",
       "    <tr>\n",
       "      <th>3122</th>\n",
       "      <td>0743411374</td>\n",
       "      <td>2004</td>\n",
       "      <td>8.0</td>\n",
       "      <td>6</td>\n",
       "    </tr>\n",
       "    <tr>\n",
       "      <th>3488</th>\n",
       "      <td>0451211839</td>\n",
       "      <td>2004</td>\n",
       "      <td>8.0</td>\n",
       "      <td>3</td>\n",
       "    </tr>\n",
       "    <tr>\n",
       "      <th>3487</th>\n",
       "      <td>0451211839</td>\n",
       "      <td>2004</td>\n",
       "      <td>8.0</td>\n",
       "      <td>3</td>\n",
       "    </tr>\n",
       "    <tr>\n",
       "      <th>267</th>\n",
       "      <td>0380978695</td>\n",
       "      <td>2004</td>\n",
       "      <td>10.0</td>\n",
       "      <td>1</td>\n",
       "    </tr>\n",
       "  </tbody>\n",
       "</table>\n",
       "</div>\n",
       "      <button class=\"colab-df-convert\" onclick=\"convertToInteractive('df-65a128ee-85ad-49a4-ae4a-3a3a0c0e4cfe')\"\n",
       "              title=\"Convert this dataframe to an interactive table.\"\n",
       "              style=\"display:none;\">\n",
       "        \n",
       "  <svg xmlns=\"http://www.w3.org/2000/svg\" height=\"24px\"viewBox=\"0 0 24 24\"\n",
       "       width=\"24px\">\n",
       "    <path d=\"M0 0h24v24H0V0z\" fill=\"none\"/>\n",
       "    <path d=\"M18.56 5.44l.94 2.06.94-2.06 2.06-.94-2.06-.94-.94-2.06-.94 2.06-2.06.94zm-11 1L8.5 8.5l.94-2.06 2.06-.94-2.06-.94L8.5 2.5l-.94 2.06-2.06.94zm10 10l.94 2.06.94-2.06 2.06-.94-2.06-.94-.94-2.06-.94 2.06-2.06.94z\"/><path d=\"M17.41 7.96l-1.37-1.37c-.4-.4-.92-.59-1.43-.59-.52 0-1.04.2-1.43.59L10.3 9.45l-7.72 7.72c-.78.78-.78 2.05 0 2.83L4 21.41c.39.39.9.59 1.41.59.51 0 1.02-.2 1.41-.59l7.78-7.78 2.81-2.81c.8-.78.8-2.07 0-2.86zM5.41 20L4 18.59l7.72-7.72 1.47 1.35L5.41 20z\"/>\n",
       "  </svg>\n",
       "      </button>\n",
       "      \n",
       "  <style>\n",
       "    .colab-df-container {\n",
       "      display:flex;\n",
       "      flex-wrap:wrap;\n",
       "      gap: 12px;\n",
       "    }\n",
       "\n",
       "    .colab-df-convert {\n",
       "      background-color: #E8F0FE;\n",
       "      border: none;\n",
       "      border-radius: 50%;\n",
       "      cursor: pointer;\n",
       "      display: none;\n",
       "      fill: #1967D2;\n",
       "      height: 32px;\n",
       "      padding: 0 0 0 0;\n",
       "      width: 32px;\n",
       "    }\n",
       "\n",
       "    .colab-df-convert:hover {\n",
       "      background-color: #E2EBFA;\n",
       "      box-shadow: 0px 1px 2px rgba(60, 64, 67, 0.3), 0px 1px 3px 1px rgba(60, 64, 67, 0.15);\n",
       "      fill: #174EA6;\n",
       "    }\n",
       "\n",
       "    [theme=dark] .colab-df-convert {\n",
       "      background-color: #3B4455;\n",
       "      fill: #D2E3FC;\n",
       "    }\n",
       "\n",
       "    [theme=dark] .colab-df-convert:hover {\n",
       "      background-color: #434B5C;\n",
       "      box-shadow: 0px 1px 3px 1px rgba(0, 0, 0, 0.15);\n",
       "      filter: drop-shadow(0px 1px 2px rgba(0, 0, 0, 0.3));\n",
       "      fill: #FFFFFF;\n",
       "    }\n",
       "  </style>\n",
       "\n",
       "      <script>\n",
       "        const buttonEl =\n",
       "          document.querySelector('#df-65a128ee-85ad-49a4-ae4a-3a3a0c0e4cfe button.colab-df-convert');\n",
       "        buttonEl.style.display =\n",
       "          google.colab.kernel.accessAllowed ? 'block' : 'none';\n",
       "\n",
       "        async function convertToInteractive(key) {\n",
       "          const element = document.querySelector('#df-65a128ee-85ad-49a4-ae4a-3a3a0c0e4cfe');\n",
       "          const dataTable =\n",
       "            await google.colab.kernel.invokeFunction('convertToInteractive',\n",
       "                                                     [key], {});\n",
       "          if (!dataTable) return;\n",
       "\n",
       "          const docLinkHtml = 'Like what you see? Visit the ' +\n",
       "            '<a target=\"_blank\" href=https://colab.research.google.com/notebooks/data_table.ipynb>data table notebook</a>'\n",
       "            + ' to learn more about interactive tables.';\n",
       "          element.innerHTML = '';\n",
       "          dataTable['output_type'] = 'display_data';\n",
       "          await google.colab.output.renderOutput(dataTable, element);\n",
       "          const docLink = document.createElement('div');\n",
       "          docLink.innerHTML = docLinkHtml;\n",
       "          element.appendChild(docLink);\n",
       "        }\n",
       "      </script>\n",
       "    </div>\n",
       "  </div>\n",
       "  "
      ],
      "text/plain": [
       "            ISBN  Year-Of-Publication  ratings_mean  ratings_count\n",
       "6643  068160204X                 2020           7.0              1\n",
       "3122  0743411374                 2004           8.0              6\n",
       "3488  0451211839                 2004           8.0              3\n",
       "3487  0451211839                 2004           8.0              3\n",
       "267   0380978695                 2004          10.0              1"
      ]
     },
     "execution_count": 77,
     "metadata": {},
     "output_type": "execute_result"
    }
   ],
   "source": [
    "finall.head()"
   ]
  },
  {
   "cell_type": "code",
   "execution_count": 78,
   "metadata": {
    "id": "07y_y_DhYUl4"
   },
   "outputs": [],
   "source": [
    "class PopularityRecommender:\n",
    "  \n",
    "  MODEL_NAME = 'Popularity'\n",
    "  \n",
    "  def __init__(self, popularities_df):\n",
    "      self.popularities_df = popularities_df\n",
    "      \n",
    "  def get_model_name(self):\n",
    "      return self.MODEL_NAME\n",
    "\n",
    "  def weighted_rating(self, x, m, C):\n",
    "    v = x['ratings_count']\n",
    "    R = x['ratings_mean']\n",
    "    # Calculation based on the IMDB formula\n",
    "    return (v/(v+m) * R) + (m/(m+v) * C)\n",
    "\n",
    "  def recommend_items(self, user_id, items_to_ignore=[], topn=10, verbose=False):\n",
    "     #avrage rating for all movies\n",
    "      C = self.popularities_df['ratings_mean'].mean()\n",
    "\n",
    "      self.popularities_df['predicted_rating'] = self.popularities_df.apply(lambda x: self.weighted_rating(x, 3.5, C), axis=1)\n",
    "\n",
    "      #delete all movies continue in train \n",
    "\n",
    "      recommendations_df = self.popularities_df[~self.popularities_df['ISBN'].isin(items_to_ignore)] \\\n",
    "                              .sort_values('predicted_rating', ascending = False) \\\n",
    "                              .sort_values('Year-Of-Publication', ascending = False) \\\n",
    "                              .head(topn)\n",
    "\n",
    "      return recommendations_df\n",
    "    \n",
    "popularity_model = PopularityRecommender(df3)"
   ]
  },
  {
   "cell_type": "code",
   "execution_count": 79,
   "metadata": {
    "colab": {
     "base_uri": "https://localhost:8080/",
     "height": 514
    },
    "id": "ZakywwH0v1M3",
    "outputId": "693de479-ba32-4aae-dc4a-07074109abdb"
   },
   "outputs": [
    {
     "name": "stdout",
     "output_type": "stream",
     "text": [
      "Evaluating Popularity recommendation model...\n",
      "666 users processed\n",
      "\n",
      "Global metrics:\n",
      "{'modelName': 'Popularity', 'recall@5': 0.6896551724137931, 'recall@10': 1.0, 'precision@5': 0.006000600060006, 'precision@10': 0.00436418359668924}\n"
     ]
    },
    {
     "data": {
      "text/html": [
       "\n",
       "  <div id=\"df-32cda767-2acd-41ae-8e63-1313a9d41d89\">\n",
       "    <div class=\"colab-df-container\">\n",
       "      <div>\n",
       "<style scoped>\n",
       "    .dataframe tbody tr th:only-of-type {\n",
       "        vertical-align: middle;\n",
       "    }\n",
       "\n",
       "    .dataframe tbody tr th {\n",
       "        vertical-align: top;\n",
       "    }\n",
       "\n",
       "    .dataframe thead th {\n",
       "        text-align: right;\n",
       "    }\n",
       "</style>\n",
       "<table border=\"1\" class=\"dataframe\">\n",
       "  <thead>\n",
       "    <tr style=\"text-align: right;\">\n",
       "      <th></th>\n",
       "      <th>hits@5_count</th>\n",
       "      <th>hits@10_count</th>\n",
       "      <th>recommended@5_count</th>\n",
       "      <th>recommended@10_count</th>\n",
       "      <th>relevents</th>\n",
       "      <th>recall@5</th>\n",
       "      <th>recall@10</th>\n",
       "      <th>precision@5</th>\n",
       "      <th>precision@10</th>\n",
       "      <th>User-ID</th>\n",
       "    </tr>\n",
       "  </thead>\n",
       "  <tbody>\n",
       "    <tr>\n",
       "      <th>536</th>\n",
       "      <td>4</td>\n",
       "      <td>8</td>\n",
       "      <td>5</td>\n",
       "      <td>10</td>\n",
       "      <td>8</td>\n",
       "      <td>0.5</td>\n",
       "      <td>1.0</td>\n",
       "      <td>0.8</td>\n",
       "      <td>0.8</td>\n",
       "      <td>235105</td>\n",
       "    </tr>\n",
       "    <tr>\n",
       "      <th>656</th>\n",
       "      <td>4</td>\n",
       "      <td>8</td>\n",
       "      <td>5</td>\n",
       "      <td>10</td>\n",
       "      <td>8</td>\n",
       "      <td>0.5</td>\n",
       "      <td>1.0</td>\n",
       "      <td>0.8</td>\n",
       "      <td>0.8</td>\n",
       "      <td>163804</td>\n",
       "    </tr>\n",
       "    <tr>\n",
       "      <th>298</th>\n",
       "      <td>3</td>\n",
       "      <td>3</td>\n",
       "      <td>5</td>\n",
       "      <td>10</td>\n",
       "      <td>3</td>\n",
       "      <td>1.0</td>\n",
       "      <td>1.0</td>\n",
       "      <td>0.6</td>\n",
       "      <td>0.3</td>\n",
       "      <td>43910</td>\n",
       "    </tr>\n",
       "    <tr>\n",
       "      <th>149</th>\n",
       "      <td>1</td>\n",
       "      <td>1</td>\n",
       "      <td>5</td>\n",
       "      <td>10</td>\n",
       "      <td>1</td>\n",
       "      <td>1.0</td>\n",
       "      <td>1.0</td>\n",
       "      <td>0.2</td>\n",
       "      <td>0.1</td>\n",
       "      <td>16795</td>\n",
       "    </tr>\n",
       "    <tr>\n",
       "      <th>315</th>\n",
       "      <td>1</td>\n",
       "      <td>1</td>\n",
       "      <td>5</td>\n",
       "      <td>10</td>\n",
       "      <td>1</td>\n",
       "      <td>1.0</td>\n",
       "      <td>1.0</td>\n",
       "      <td>0.2</td>\n",
       "      <td>0.1</td>\n",
       "      <td>156584</td>\n",
       "    </tr>\n",
       "    <tr>\n",
       "      <th>110</th>\n",
       "      <td>1</td>\n",
       "      <td>1</td>\n",
       "      <td>5</td>\n",
       "      <td>10</td>\n",
       "      <td>1</td>\n",
       "      <td>1.0</td>\n",
       "      <td>1.0</td>\n",
       "      <td>0.2</td>\n",
       "      <td>0.1</td>\n",
       "      <td>235842</td>\n",
       "    </tr>\n",
       "    <tr>\n",
       "      <th>21</th>\n",
       "      <td>1</td>\n",
       "      <td>1</td>\n",
       "      <td>5</td>\n",
       "      <td>10</td>\n",
       "      <td>1</td>\n",
       "      <td>1.0</td>\n",
       "      <td>1.0</td>\n",
       "      <td>0.2</td>\n",
       "      <td>0.1</td>\n",
       "      <td>143415</td>\n",
       "    </tr>\n",
       "    <tr>\n",
       "      <th>232</th>\n",
       "      <td>1</td>\n",
       "      <td>1</td>\n",
       "      <td>5</td>\n",
       "      <td>10</td>\n",
       "      <td>1</td>\n",
       "      <td>1.0</td>\n",
       "      <td>1.0</td>\n",
       "      <td>0.2</td>\n",
       "      <td>0.1</td>\n",
       "      <td>182993</td>\n",
       "    </tr>\n",
       "    <tr>\n",
       "      <th>438</th>\n",
       "      <td>1</td>\n",
       "      <td>1</td>\n",
       "      <td>5</td>\n",
       "      <td>10</td>\n",
       "      <td>1</td>\n",
       "      <td>1.0</td>\n",
       "      <td>1.0</td>\n",
       "      <td>0.2</td>\n",
       "      <td>0.1</td>\n",
       "      <td>99630</td>\n",
       "    </tr>\n",
       "    <tr>\n",
       "      <th>142</th>\n",
       "      <td>1</td>\n",
       "      <td>1</td>\n",
       "      <td>5</td>\n",
       "      <td>10</td>\n",
       "      <td>1</td>\n",
       "      <td>1.0</td>\n",
       "      <td>1.0</td>\n",
       "      <td>0.2</td>\n",
       "      <td>0.1</td>\n",
       "      <td>6543</td>\n",
       "    </tr>\n",
       "  </tbody>\n",
       "</table>\n",
       "</div>\n",
       "      <button class=\"colab-df-convert\" onclick=\"convertToInteractive('df-32cda767-2acd-41ae-8e63-1313a9d41d89')\"\n",
       "              title=\"Convert this dataframe to an interactive table.\"\n",
       "              style=\"display:none;\">\n",
       "        \n",
       "  <svg xmlns=\"http://www.w3.org/2000/svg\" height=\"24px\"viewBox=\"0 0 24 24\"\n",
       "       width=\"24px\">\n",
       "    <path d=\"M0 0h24v24H0V0z\" fill=\"none\"/>\n",
       "    <path d=\"M18.56 5.44l.94 2.06.94-2.06 2.06-.94-2.06-.94-.94-2.06-.94 2.06-2.06.94zm-11 1L8.5 8.5l.94-2.06 2.06-.94-2.06-.94L8.5 2.5l-.94 2.06-2.06.94zm10 10l.94 2.06.94-2.06 2.06-.94-2.06-.94-.94-2.06-.94 2.06-2.06.94z\"/><path d=\"M17.41 7.96l-1.37-1.37c-.4-.4-.92-.59-1.43-.59-.52 0-1.04.2-1.43.59L10.3 9.45l-7.72 7.72c-.78.78-.78 2.05 0 2.83L4 21.41c.39.39.9.59 1.41.59.51 0 1.02-.2 1.41-.59l7.78-7.78 2.81-2.81c.8-.78.8-2.07 0-2.86zM5.41 20L4 18.59l7.72-7.72 1.47 1.35L5.41 20z\"/>\n",
       "  </svg>\n",
       "      </button>\n",
       "      \n",
       "  <style>\n",
       "    .colab-df-container {\n",
       "      display:flex;\n",
       "      flex-wrap:wrap;\n",
       "      gap: 12px;\n",
       "    }\n",
       "\n",
       "    .colab-df-convert {\n",
       "      background-color: #E8F0FE;\n",
       "      border: none;\n",
       "      border-radius: 50%;\n",
       "      cursor: pointer;\n",
       "      display: none;\n",
       "      fill: #1967D2;\n",
       "      height: 32px;\n",
       "      padding: 0 0 0 0;\n",
       "      width: 32px;\n",
       "    }\n",
       "\n",
       "    .colab-df-convert:hover {\n",
       "      background-color: #E2EBFA;\n",
       "      box-shadow: 0px 1px 2px rgba(60, 64, 67, 0.3), 0px 1px 3px 1px rgba(60, 64, 67, 0.15);\n",
       "      fill: #174EA6;\n",
       "    }\n",
       "\n",
       "    [theme=dark] .colab-df-convert {\n",
       "      background-color: #3B4455;\n",
       "      fill: #D2E3FC;\n",
       "    }\n",
       "\n",
       "    [theme=dark] .colab-df-convert:hover {\n",
       "      background-color: #434B5C;\n",
       "      box-shadow: 0px 1px 3px 1px rgba(0, 0, 0, 0.15);\n",
       "      filter: drop-shadow(0px 1px 2px rgba(0, 0, 0, 0.3));\n",
       "      fill: #FFFFFF;\n",
       "    }\n",
       "  </style>\n",
       "\n",
       "      <script>\n",
       "        const buttonEl =\n",
       "          document.querySelector('#df-32cda767-2acd-41ae-8e63-1313a9d41d89 button.colab-df-convert');\n",
       "        buttonEl.style.display =\n",
       "          google.colab.kernel.accessAllowed ? 'block' : 'none';\n",
       "\n",
       "        async function convertToInteractive(key) {\n",
       "          const element = document.querySelector('#df-32cda767-2acd-41ae-8e63-1313a9d41d89');\n",
       "          const dataTable =\n",
       "            await google.colab.kernel.invokeFunction('convertToInteractive',\n",
       "                                                     [key], {});\n",
       "          if (!dataTable) return;\n",
       "\n",
       "          const docLinkHtml = 'Like what you see? Visit the ' +\n",
       "            '<a target=\"_blank\" href=https://colab.research.google.com/notebooks/data_table.ipynb>data table notebook</a>'\n",
       "            + ' to learn more about interactive tables.';\n",
       "          element.innerHTML = '';\n",
       "          dataTable['output_type'] = 'display_data';\n",
       "          await google.colab.output.renderOutput(dataTable, element);\n",
       "          const docLink = document.createElement('div');\n",
       "          docLink.innerHTML = docLinkHtml;\n",
       "          element.appendChild(docLink);\n",
       "        }\n",
       "      </script>\n",
       "    </div>\n",
       "  </div>\n",
       "  "
      ],
      "text/plain": [
       "     hits@5_count  hits@10_count  recommended@5_count  recommended@10_count  \\\n",
       "536             4              8                    5                    10   \n",
       "656             4              8                    5                    10   \n",
       "298             3              3                    5                    10   \n",
       "149             1              1                    5                    10   \n",
       "315             1              1                    5                    10   \n",
       "110             1              1                    5                    10   \n",
       "21              1              1                    5                    10   \n",
       "232             1              1                    5                    10   \n",
       "438             1              1                    5                    10   \n",
       "142             1              1                    5                    10   \n",
       "\n",
       "     relevents  recall@5  recall@10  precision@5  precision@10  User-ID  \n",
       "536          8       0.5        1.0          0.8           0.8   235105  \n",
       "656          8       0.5        1.0          0.8           0.8   163804  \n",
       "298          3       1.0        1.0          0.6           0.3    43910  \n",
       "149          1       1.0        1.0          0.2           0.1    16795  \n",
       "315          1       1.0        1.0          0.2           0.1   156584  \n",
       "110          1       1.0        1.0          0.2           0.1   235842  \n",
       "21           1       1.0        1.0          0.2           0.1   143415  \n",
       "232          1       1.0        1.0          0.2           0.1   182993  \n",
       "438          1       1.0        1.0          0.2           0.1    99630  \n",
       "142          1       1.0        1.0          0.2           0.1     6543  "
      ]
     },
     "execution_count": 79,
     "metadata": {},
     "output_type": "execute_result"
    }
   ],
   "source": [
    "print('Evaluating Popularity recommendation model...')\n",
    "pop_global_metrics, pop_detailed_results_df = model_evaluator.evaluate_model(popularity_model)\n",
    "print('\\nGlobal metrics:\\n%s' % pop_global_metrics)\n",
    "pop_detailed_results_df.head(10)"
   ]
  },
  {
   "cell_type": "code",
   "execution_count": 82,
   "metadata": {
    "colab": {
     "base_uri": "https://localhost:8080/"
    },
    "id": "LzMr531oEUar",
    "outputId": "4c49831e-13b1-44b1-cfac-abe299c5d71c"
   },
   "outputs": [
    {
     "data": {
      "text/plain": [
       "array(['Lawless', \"My Sister's Keeper : A Novel (Picoult, Jodi)\",\n",
       "       'The Road Home', 'The Man in My Basement: A Novel', 'The Royals'],\n",
       "      dtype=object)"
      ]
     },
     "execution_count": 82,
     "metadata": {},
     "output_type": "execute_result"
    }
   ],
   "source": [
    "ids = popularity_model.recommend_items(10)['ISBN'].values\n",
    "book1[book1['ISBN'].isin(ids)]['Book-Title'].values"
   ]
  },
  {
   "cell_type": "markdown",
   "metadata": {
    "id": "VCJIUalgsx4r"
   },
   "source": [
    "#Content-Based Filtering model with bert "
   ]
  },
  {
   "cell_type": "code",
   "execution_count": null,
   "metadata": {
    "colab": {
     "base_uri": "https://localhost:8080/"
    },
    "id": "CV1gTpmO2dFn",
    "outputId": "300bbbb9-3334-442f-b35c-9cd701377514"
   },
   "outputs": [
    {
     "data": {
      "text/plain": [
       "['Jan McDaniel',\n",
       " 'Jim Harrison',\n",
       " 'Harold, M.D. Klawans',\n",
       " 'Mary Norton',\n",
       " 'Jerry Schemmel',\n",
       " 'John Kennedy Toole',\n",
       " 'Clay Reynolds',\n",
       " 'M. M. Kaye',\n",
       " 'Suzanne Downes',\n",
       " 'Chris Smith',\n",
       " 'Illa Podendorf',\n",
       " 'Donna Comeaux Zide',\n",
       " 'Bonnie Williamson',\n",
       " 'J.C. Suares',\n",
       " 'Jo Ann Ferguson',\n",
       " 'Paul Wilson',\n",
       " 'Matthew Reilly',\n",
       " 'Douglas G. Greene',\n",
       " 'Rene Descartes',\n",
       " 'Natan Sharansky',\n",
       " 'Thomas Baum',\n",
       " 'Michael Dirda',\n",
       " 'Mary Lynn Baxter',\n",
       " 'T. Coraghessan Boyle',\n",
       " 'Emily French',\n",
       " 'Pat McKissack',\n",
       " 'C. S Lewis',\n",
       " 'John E. Sarno',\n",
       " 'Linda Winstead Jones',\n",
       " 'Hauptman',\n",
       " 'Michael Pauls',\n",
       " 'Sheila Anne Barry',\n",
       " 'James Ellroy',\n",
       " 'James Dale',\n",
       " 'Donna Anders',\n",
       " 'Robert Greer',\n",
       " 'Richard Mbey',\n",
       " 'Stefanie Samek',\n",
       " 'Susan Griffin',\n",
       " 'Jesse Ventura',\n",
       " 'Steve Shagan',\n",
       " 'Marlo Morgan',\n",
       " 'Harold Coyle',\n",
       " 'Agnes Desarthe',\n",
       " 'Jonathan Swift',\n",
       " 'Lerone Bennett',\n",
       " 'Antonia Forest',\n",
       " 'Watterson',\n",
       " 'Jennifer Apodaca',\n",
       " 'Kurtz',\n",
       " 'Han Nolan',\n",
       " 'Carl Weber',\n",
       " 'Pierre de Hugo',\n",
       " 'Mark Uhlig',\n",
       " 'Judy Jones',\n",
       " 'Barbara Lazear Ascher',\n",
       " 'Lynne Gilberg',\n",
       " 'H.C. Andersen',\n",
       " 'Duane Elgin',\n",
       " 'Doris Garns',\n",
       " 'ANNE FINE',\n",
       " 'Walter Cronkite',\n",
       " 'Gloria Mallette',\n",
       " 'Pausaker',\n",
       " 'Craig Claiborne',\n",
       " 'Dick Francis',\n",
       " 'Jack L. Chalker',\n",
       " 'Tad Williams',\n",
       " 'Daniel Clowes',\n",
       " 'Tanith Lee',\n",
       " 'John Varley',\n",
       " 'Fforde Jasper',\n",
       " 'STEVEN PRESSFIELD',\n",
       " 'Marguerite Henry',\n",
       " 'Leann Rimes',\n",
       " 'Penny Jordan',\n",
       " 'David Cressy',\n",
       " 'G. K. Chesterton',\n",
       " 'Andrea Camilleri',\n",
       " 'A.N. Jeffares',\n",
       " 'Robert J. Allison',\n",
       " 'William Thomas Stevens',\n",
       " 'Brent Hartinger',\n",
       " 'Robert J. Wicks',\n",
       " 'Bill Maher',\n",
       " 'Gerald Weissmann',\n",
       " 'Gustav Davidson',\n",
       " 'J. Budziszewski',\n",
       " 'Laurie Page',\n",
       " 'Rachel Lee',\n",
       " 'B. Traven',\n",
       " 'American Heritage Dictionaries',\n",
       " 'JONATHAN KELLERMAN',\n",
       " 'Jennifer Archer',\n",
       " 'Maeve Haran',\n",
       " 'Sheila Strutt',\n",
       " 'Damien Simonis',\n",
       " 'RON SUSKIND',\n",
       " 'Diana Diamond',\n",
       " 'Julie Gregory',\n",
       " 'Doreen Roberts',\n",
       " 'Joanna Cole',\n",
       " 'Rhys Bowen',\n",
       " 'ELIZABETH MCGREGOR',\n",
       " 'Norman Rockwell',\n",
       " 'Alyssa Dean',\n",
       " 'Chris Bohjalian',\n",
       " 'Christine Rimmer',\n",
       " 'Nancy Fairbanks',\n",
       " 'Allan G. Johnson',\n",
       " 'James Patterson',\n",
       " 'Jasper Carrott',\n",
       " 'Richard Preston',\n",
       " 'Barbara Ehrenreich',\n",
       " 'Beverly Clark',\n",
       " 'John Clark Craig',\n",
       " 'Scott',\n",
       " 'Michael Marshall',\n",
       " 'Susan Meier',\n",
       " 'Henry Collins',\n",
       " 'Arthur Charles Clarke',\n",
       " 'Better Homes and Gardens',\n",
       " 'Barbara Trapido',\n",
       " 'Daniel Wallace',\n",
       " 'ALEXANDRA FULLER',\n",
       " 'J.A. Konrath',\n",
       " 'Victoria McKernan',\n",
       " 'Ed Parker',\n",
       " 'Connie Lane',\n",
       " 'Jeremy D. Adler',\n",
       " 'Flavius Josephus',\n",
       " 'TAMORA PIERCE',\n",
       " 'Readers Digest Association',\n",
       " 'Walter Doyle, Dr. Staples',\n",
       " 'Herge',\n",
       " 'Susan R. Matthews',\n",
       " 'Joy Goodwin',\n",
       " 'Kate Grenville',\n",
       " 'S.M. Ulam',\n",
       " 'Ted Libbey',\n",
       " 'Steve Vogel',\n",
       " 'A.N. Roquelaure',\n",
       " 'Daniel Burstein',\n",
       " 'Jeff Deaver',\n",
       " 'Jean Sasson',\n",
       " 'Sol Stein',\n",
       " 'Justine Fontes',\n",
       " 'Jessica Anderson',\n",
       " 'Colleen L Reece',\n",
       " 'M. V. Carey',\n",
       " 'Marilyn Pappano',\n",
       " 'Gail Sheehy',\n",
       " 'Theresa Nelson',\n",
       " 'Robert Demaria',\n",
       " 'Susann Geiskopf-Hadler',\n",
       " 'Nancy Martin',\n",
       " 'Rebecca tyson Northen',\n",
       " 'Sarah Vowell',\n",
       " 'William Stuart Long',\n",
       " 'Beverly Cleary',\n",
       " 'Brian Wilson Aldiss',\n",
       " 'BROTHERS GRIMM',\n",
       " 'T. H. White',\n",
       " 'Laura Berquist',\n",
       " 'Linda Howard',\n",
       " 'Richard Laermer',\n",
       " 'J. R. R. Tolkien',\n",
       " 'Claire D. Hutchins',\n",
       " 'Phil Kuntz',\n",
       " 'Jane Yolen',\n",
       " 'Steve Garvey',\n",
       " 'Jocelyne FranÃ?Â§ois',\n",
       " 'Gail Hellund Bowler',\n",
       " 'JANE FEATHER',\n",
       " 'Elizabeth Redfern',\n",
       " 'Tom Wolfe',\n",
       " 'Jean Ure',\n",
       " 'Craig Shaw Gardner',\n",
       " 'Ying Bian',\n",
       " 'Helen Palmer',\n",
       " 'Allison Hayes',\n",
       " 'Linda Ellerbee',\n",
       " 'Christophe Donner',\n",
       " 'Murray Watts',\n",
       " 'Harvard Lampoon Staff',\n",
       " 'Priscilla Beaulieu Presley',\n",
       " 'Mark Bryant',\n",
       " 'Alice Leccese Powers',\n",
       " 'Julia Parker',\n",
       " 'Sherryl Woods',\n",
       " 'Ann Beattie',\n",
       " 'Not Applicable (Na )',\n",
       " 'Beverly Vertrees',\n",
       " 'Anthony Summers',\n",
       " 'Denise Lardner Carmody',\n",
       " 'Annie Dawid',\n",
       " 'CHRISTINA SKYE',\n",
       " 'Annie Hawes',\n",
       " 'Unk',\n",
       " 'Pearl Fuyo Gaskins',\n",
       " 'Susan Amarillas',\n",
       " 'Beverly Sommers',\n",
       " 'Paul R. Ehrlich',\n",
       " 'Victoria Strauss',\n",
       " 'Raymond Carver',\n",
       " 'Walther Hohenester',\n",
       " 'Sharan Newman',\n",
       " 'Mark Frost',\n",
       " 'Greg Pahl',\n",
       " 'Kathy Hogan Trocheck',\n",
       " 'KJ Erickson',\n",
       " 'Miranda Stewart',\n",
       " 'DAVID SIMON',\n",
       " 'Henry H., Jr. Collins',\n",
       " 'DC Talk',\n",
       " 'Charles M. Schulz',\n",
       " 'R. J DeCristoforo',\n",
       " 'Helen Kitchen Branson',\n",
       " 'Michael Levey',\n",
       " 'Linnea Dayton',\n",
       " 'Michelle Martin',\n",
       " 'Stephen Mitchell',\n",
       " 'GREG KEYES',\n",
       " 'William J. Caunitz',\n",
       " 'Curtis Gathje',\n",
       " 'David Bergantino',\n",
       " 'Agatha Christie',\n",
       " 'Joyce Meyer',\n",
       " 'Spalding Gray',\n",
       " 'Jeffrey Konvitz',\n",
       " 'Bobby Hutchinson',\n",
       " 'Mike Atherton',\n",
       " 'H. Rider Haggard',\n",
       " 'Robert Asprin',\n",
       " 'Michael J. Fox',\n",
       " 'Shannon Olson',\n",
       " 'MARJANE SATRAPI',\n",
       " 'Dean R. Koontz',\n",
       " 'Tae Yun Kim',\n",
       " 'Leo Tolstoy',\n",
       " 'Abdulrazak Gurnah',\n",
       " 'Chris Catton',\n",
       " 'E. T. Mooney',\n",
       " 'Ursula K. LeGuin',\n",
       " 'MAKO YOSHIKAWA',\n",
       " 'Kimberly Raye',\n",
       " 'Anna Adams',\n",
       " 'Michael Connelly',\n",
       " 'Mary Davis',\n",
       " 'Arthur Upgren',\n",
       " 'Joan Barzilay Freund',\n",
       " 'Thomas Fleming',\n",
       " 'Joseph Girzone',\n",
       " 'Julie Bertangna',\n",
       " 'William Lashner',\n",
       " 'Ann Spangler',\n",
       " 'Anne Colby',\n",
       " 'Marion Dane Bauer',\n",
       " 'John Reynolds Gardiner',\n",
       " 'Antoine de Caunes',\n",
       " 'ISAAC ASIMOV',\n",
       " 'Robert Morgan',\n",
       " 'James Grady',\n",
       " 'Evelyn Keyes',\n",
       " 'Julio Cortazar',\n",
       " 'Kenneth Ethridge',\n",
       " 'Terrance Dicks',\n",
       " 'Nikki Gemmell',\n",
       " 'John Robbins',\n",
       " 'Jace',\n",
       " 'Nikki Bradford',\n",
       " 'Emma Sinclair',\n",
       " 'Vicki Iovine',\n",
       " 'Laurence Urdang',\n",
       " 'Connie Brockway',\n",
       " 'Ann M. Martin',\n",
       " 'Jean Liedloff',\n",
       " 'Helen Myers',\n",
       " 'Patrick Redmond',\n",
       " 'Jack Leninger',\n",
       " 'Katherine Neville',\n",
       " 'Larry Watson',\n",
       " 'Lynnette Kent',\n",
       " 'Pras Michel',\n",
       " 'Sterling North',\n",
       " 'Melinda Haynes',\n",
       " 'Kai Theodor Erikson',\n",
       " 'William J. Palmer',\n",
       " 'Jesse Liberty',\n",
       " 'Charlotte Vale Allen',\n",
       " 'Martha Wells',\n",
       " 'Billie Sue Mosiman',\n",
       " 'Susan Howatch',\n",
       " 'David Lindsey',\n",
       " 'Barbara Catlin',\n",
       " 'Moncure',\n",
       " 'Anton Pavlovich Chekhov',\n",
       " 'Don Freeman',\n",
       " 'J.R.R. TOLKIEN',\n",
       " 'Cecile Lamalle',\n",
       " 'Linda Donelson',\n",
       " 'Beth Spanjian',\n",
       " 'Nicole Mones',\n",
       " 'Nadya L. Peterson',\n",
       " 'Fay Robinson',\n",
       " 'Linda Hogan',\n",
       " 'Ann Granger',\n",
       " 'Bram Stoker',\n",
       " 'Bill Kinison',\n",
       " 'F. Sionil Jose',\n",
       " 'Joan R. Sherman',\n",
       " 'Julius de Goede',\n",
       " 'Helen Nearing',\n",
       " 'Elissa Wald',\n",
       " 'Maida Silverman',\n",
       " 'Charles Portis',\n",
       " 'RÃ?Â¼diger Nehberg',\n",
       " 'Monette',\n",
       " 'Margaret Hillert',\n",
       " 'Whitley Strieber',\n",
       " 'Steven Pressfield',\n",
       " 'Lynne Reid Banks',\n",
       " 'Sean Hughes',\n",
       " 'Janis Hallowell',\n",
       " 'James Alan Gardner',\n",
       " 'Des Hannigan',\n",
       " 'Victor Perera',\n",
       " 'THOMAS ROCKWELL',\n",
       " 'Poppy Z. Brite',\n",
       " 'Gina Walker',\n",
       " 'Sandra Dallas',\n",
       " 'Carol Burnett',\n",
       " 'Lucinda Rosenfeld',\n",
       " 'Trezza Azzopardi',\n",
       " 'Jill Barber',\n",
       " 'Sabrina Jeffries',\n",
       " 'Marisa Carroll',\n",
       " 'Robin Kahn',\n",
       " 'Denis Brian',\n",
       " 'Richard Ford',\n",
       " 'Miranda North',\n",
       " 'Terry C. Johnston',\n",
       " 'Angus G., III Garber',\n",
       " 'Allan Gurganus',\n",
       " 'Tobias Smollett',\n",
       " 'Joel Rosenberg',\n",
       " 'Northrop Frye',\n",
       " 'Robert Specht',\n",
       " 'Karen Payne',\n",
       " 'Christopher Pike',\n",
       " 'Sara Shandler',\n",
       " 'Albert Gore',\n",
       " 'Sophia Loren',\n",
       " 'Elliot S. Maggin',\n",
       " 'Gareth Williams',\n",
       " 'Nakamura',\n",
       " 'Willard Randall',\n",
       " 'Gardner McKay',\n",
       " 'George R. R. Martin',\n",
       " 'Peggy Darty',\n",
       " 'Penny Frank',\n",
       " 'Lucy Daniel',\n",
       " 'Peggy Nicholson',\n",
       " 'Alien Stevens',\n",
       " 'Sagan',\n",
       " 'John Skipp',\n",
       " 'Martin Whitby',\n",
       " 'Uwe Kreisel',\n",
       " 'Joan Elliot Pickart',\n",
       " 'Michael O. Wise',\n",
       " 'Mark Burnell',\n",
       " 'George Sullivan',\n",
       " 'Tom Clancy',\n",
       " 'Robert T. Kiyosaki',\n",
       " 'Anne Burton',\n",
       " 'Rosamunde Pilcher',\n",
       " 'Susanna Tamaro',\n",
       " 'Slavomir Rawicz',\n",
       " 'Dennis Brouner',\n",
       " 'Peter T. Deutermann',\n",
       " 'Linda Jones',\n",
       " 'Altan',\n",
       " 'Nino Ricci',\n",
       " 'Tom Ladwig',\n",
       " 'Ronald C. Modra',\n",
       " 'Darian North',\n",
       " 'Louise Murphy',\n",
       " 'Sally Cook',\n",
       " 'Caroline Clemmons',\n",
       " 'STEPHEN LEVINE',\n",
       " 'Richard Belzer',\n",
       " 'Margaret Truman',\n",
       " 'Francine Pascal',\n",
       " 'John Barnes',\n",
       " 'E C Bentley',\n",
       " 'Carmen Laforet',\n",
       " 'Mary Norden',\n",
       " 'Peter Ustinov',\n",
       " 'Shelley Sessions',\n",
       " 'Richard Steckel',\n",
       " 'Mike Wilks',\n",
       " 'Susan Elderkin',\n",
       " 'Maureen Child',\n",
       " 'David Aikman',\n",
       " 'Cameron Tuttle',\n",
       " 'Anne Mustoe',\n",
       " 'John Fitzpatrick',\n",
       " 'Rona Jaffe',\n",
       " 'Shinjiro Sagara',\n",
       " 'Dan Millman',\n",
       " 'L.M. MONTGOMERY',\n",
       " \"Aine O'Connor\",\n",
       " 'Lawrence Norfolk',\n",
       " 'Ruth Manning-Sanders',\n",
       " 'John, Hewish',\n",
       " 'Chris Fuhrman',\n",
       " 'Iain Banks',\n",
       " 'Jimmy Buffett',\n",
       " 'Susan S. Adler',\n",
       " 'Culinary Institute of America',\n",
       " 'K. Stinson',\n",
       " 'Dorothy Van Woerkom',\n",
       " 'Brion Gysin',\n",
       " 'Tom Robbins',\n",
       " 'VINCENT BUGLIOSI',\n",
       " 'Victoria Thompson',\n",
       " 'Phil Toshio sudo',\n",
       " 'Molly Ivins',\n",
       " 'Jackie Waldman',\n",
       " 'Laura Lushington',\n",
       " 'Elaine Cunningham',\n",
       " 'Vanessa Ann',\n",
       " \"Pat O'Shea\",\n",
       " 'Almudena Grandes',\n",
       " 'NICOLE JORDAN',\n",
       " 'MacK Reynolds',\n",
       " 'Don W. Weber',\n",
       " 'Nikos Kazantzakis',\n",
       " 'John Johnson',\n",
       " 'Michel Braudeau',\n",
       " 'David A. Adler',\n",
       " 'H. Jay Riker',\n",
       " 'Susan Branch',\n",
       " 'Dawn Cusick',\n",
       " 'Vladimir Vladimirovich Nabokov',\n",
       " 'Graham Salisbury',\n",
       " 'Frank B., Jr. Gilbreth',\n",
       " 'Maurice Rawlings',\n",
       " 'Annabel Z. Dodd',\n",
       " 'Maggie Daniels',\n",
       " 'Jenny Nimmo',\n",
       " 'Terri Windling',\n",
       " 'Gorton Carruth',\n",
       " 'David Marion Wilkinson',\n",
       " 'Gina Ingoglia',\n",
       " 'John Connolly',\n",
       " 'Rett MacPherson',\n",
       " 'Valerie Martin',\n",
       " 'Raye Morgan',\n",
       " 'Julia Kristeva',\n",
       " 'Avodah K., m.d. Offit',\n",
       " 'Conrad Haynes',\n",
       " 'Julie Dolan',\n",
       " 'Carolyn McSparren',\n",
       " 'Joanne Rock',\n",
       " 'Lori Martin',\n",
       " 'Ellen DeGeneres',\n",
       " 'Sharon Shinn',\n",
       " 'Rosemary Rogers',\n",
       " 'Irving Benig',\n",
       " 'Anita Rau Badami',\n",
       " 'Judy Mercer',\n",
       " 'Tim Allen',\n",
       " 'Delbert G. Carlson',\n",
       " 'Author Unknown',\n",
       " 'Howard Rheingold',\n",
       " 'Shirl Henke',\n",
       " 'LouAnne Johnson',\n",
       " 'Josepha Sherman',\n",
       " 'Arianna Stassinopoulos Huffington',\n",
       " 'Charles S. Carver',\n",
       " 'Thomas J. Peters',\n",
       " 'PENELOPE LEACH',\n",
       " 'Glenda Sanders',\n",
       " 'Anne McCaffrey',\n",
       " 'Joy Kogawa',\n",
       " 'Annie Proulx',\n",
       " 'Ljiljana Ortolja-Baird',\n",
       " 'Robyn Carr',\n",
       " 'Angela Fisher',\n",
       " 'Josep M. Parramon',\n",
       " 'Henry Alford',\n",
       " 'Robert Aitken',\n",
       " 'Tom Sullivan',\n",
       " 'Linda French',\n",
       " 'Irving Wallace',\n",
       " 'Patricia Cornwell',\n",
       " 'C. Dale Brittain',\n",
       " 'Morton Kondracke',\n",
       " 'Irene Slatter',\n",
       " 'James P. Hogan',\n",
       " 'Imre Kertesz',\n",
       " 'Lucy. Lidell',\n",
       " 'Andrew Hunt',\n",
       " 'Duncan MacDonald',\n",
       " 'Sue Miller',\n",
       " 'TERESA MEDEIROS',\n",
       " 'Hallie Marshall',\n",
       " 'Keith Ridgway',\n",
       " 'Derek MacKenzie-Hook',\n",
       " 'Ken Kesey',\n",
       " 'William Wordsworth',\n",
       " 'Mia Couto',\n",
       " 'Jonathan Stone',\n",
       " 'Collin McDonald',\n",
       " 'Harold Carlton',\n",
       " 'Shaun Tyas',\n",
       " 'Vickie York',\n",
       " 'Gordon Hutner',\n",
       " \"Jeanne D'Haem\",\n",
       " 'Lindsay Armstrong',\n",
       " 'Rosemarie Lennon',\n",
       " 'Esther De Waal',\n",
       " 'Joshua Armstrong',\n",
       " 'Eric Carle',\n",
       " 'Houston A. Baker',\n",
       " 'Masuji Ibuse',\n",
       " 'Angus J. Kennedy',\n",
       " 'Sandra Brown',\n",
       " 'United Nations Environment Programme',\n",
       " 'Kit Denton',\n",
       " 'Sharon Harlow',\n",
       " 'Betty Crocker',\n",
       " 'Olivia De-Berardinis',\n",
       " 'Manuel Jorge Marmelo',\n",
       " 'Jan Freed',\n",
       " 'Linda Warren',\n",
       " 'William Bayer',\n",
       " 'Jennifer B. Jones',\n",
       " 'Gary Garrels',\n",
       " 'MARIE JOSEPH',\n",
       " 'Michael D. Powers',\n",
       " 'Rosanne Bittner',\n",
       " 'Janny Wurts',\n",
       " 'Irene Radford',\n",
       " 'Jim \\\\Catfish\\\\\" Hunter\"',\n",
       " 'A. A. Hoehling',\n",
       " 'Robin Hobb',\n",
       " 'Cedco',\n",
       " 'KATIE SCHNEIDER',\n",
       " 'Robert Burns',\n",
       " 'James C. Hunter',\n",
       " 'Alan Emmet',\n",
       " 'John Saul',\n",
       " 'Ian Boyd',\n",
       " 'Jane Roberts Wood',\n",
       " 'Thom Nicholson',\n",
       " 'Maisie Mosco',\n",
       " 'Ernest Hemingway',\n",
       " 'A. Daudet',\n",
       " 'Larry Burkett',\n",
       " 'Gita Dorothy Morena',\n",
       " 'ROBERT NEWTON PECK',\n",
       " 'Cooper Susan',\n",
       " 'Elizabeth Power',\n",
       " 'Steven Callahan',\n",
       " 'Mark Haddon',\n",
       " 'Harriette Arnow',\n",
       " 'Bernard Shaw',\n",
       " 'Matthew J. Reilly',\n",
       " 'Elizbeth Squier',\n",
       " 'Melita Denning',\n",
       " 'Kathleen Morgan',\n",
       " 'Beatrix Potter',\n",
       " 'Finis Farr',\n",
       " 'Penny Jordon',\n",
       " 'Mary MacCracken',\n",
       " 'Linda Lay Shuler',\n",
       " 'Tina Wainscott',\n",
       " 'Mel Gilden',\n",
       " 'Catherine Gildiner',\n",
       " 'Cornell Woolrich',\n",
       " 'Rosamond Siemon',\n",
       " 'Christopher Moore',\n",
       " 'Dennis Strik',\n",
       " 'Tony Hillerman',\n",
       " 'William Safire',\n",
       " 'Howard M. Shapiro',\n",
       " 'Lee Foster',\n",
       " 'William Stevenson',\n",
       " 'Diane Carey',\n",
       " 'David Letterman',\n",
       " 'Erica Field',\n",
       " \"Carol Anne O'Marie\",\n",
       " 'Helen Brooks',\n",
       " 'Susan Straight',\n",
       " 'POPPY BRITE',\n",
       " 'Simon R. Green',\n",
       " 'Samuel Smiles',\n",
       " 'Bruce Larson',\n",
       " 'Manil Suri',\n",
       " 'Daniel Easterman',\n",
       " 'Kenneth Grahame',\n",
       " 'Deborah Coates',\n",
       " 'Jenny Colgan',\n",
       " 'Thomas Moore',\n",
       " 'Todd Lammle',\n",
       " 'Ruth Belov Gross',\n",
       " 'Sidney Painter',\n",
       " 'Carol McD. Wallace',\n",
       " 'Helen R. Myers',\n",
       " 'Jonathan Raban',\n",
       " 'David Faber',\n",
       " 'Brenda Novak',\n",
       " 'Chelsea Quinn Yarbro',\n",
       " 'Anonymous',\n",
       " 'C J Cherryh',\n",
       " 'Ross King',\n",
       " 'Stephen R. Donaldson',\n",
       " 'Jeanette Winterson',\n",
       " 'Paul Doherty',\n",
       " 'Joan Elizabeth Lloyd',\n",
       " 'Vivianne Crowley',\n",
       " 'Gael Baudino',\n",
       " 'Teri Holbrook',\n",
       " 'William F. Buckley',\n",
       " 'Annelies Schwarz',\n",
       " 'John Westermann',\n",
       " 'Wendy Holden',\n",
       " 'V.K. Narayanan',\n",
       " 'CLAMP',\n",
       " 'Elaine Barbieri',\n",
       " 'Ana Seymour',\n",
       " 'Linda Lamb',\n",
       " 'Denny Somach',\n",
       " 'EDWARD O. WILSON',\n",
       " 'Linda Bruckheimer',\n",
       " 'Patricia Powell',\n",
       " 'T. M. Wright',\n",
       " 'G. C Cheshire',\n",
       " 'Robin Gideon',\n",
       " 'Eleanor Fremont',\n",
       " 'Kate Jenkins',\n",
       " 'Bill Blum',\n",
       " 'Jack Ballas',\n",
       " 'Lisa Eisenberg',\n",
       " 'Bernard Evslin',\n",
       " 'LOIS DUNCAN',\n",
       " 'Alexandre Dumas',\n",
       " 'Tess Gerritsen',\n",
       " 'Debra Kastner',\n",
       " 'Toni L. P. Kelner',\n",
       " 'V. Nabar',\n",
       " 'Frank X. Gaspar',\n",
       " 'Joel Kaplan',\n",
       " 'Malika Oufkir',\n",
       " 'Karl Shaw',\n",
       " 'KIMBERLEY SNOW',\n",
       " 'Juan Felipe Herrera',\n",
       " 'Dan Elliott',\n",
       " 'Genell Dellin',\n",
       " 'Isabella Bird',\n",
       " 'Will Davenport',\n",
       " 'Martin Buber',\n",
       " 'Sandra Kuck',\n",
       " 'Sue-Ellen Welfonder',\n",
       " 'Claude Francis',\n",
       " 'Elizabeth Ashton',\n",
       " 'Merline Lovelace',\n",
       " 'Frances Fyfield',\n",
       " 'E. Johannes Soltermann',\n",
       " 'David A. Carter',\n",
       " 'Hans Bemmann',\n",
       " 'Ian Stewart',\n",
       " 'Al Roker',\n",
       " 'Catherine Ryan Hyde',\n",
       " 'Arthur Rackham',\n",
       " 'Jonathan Miller',\n",
       " 'Cathy Maxwell',\n",
       " 'Barbara Girion',\n",
       " 'Eve Bunting',\n",
       " 'Reinaldo Arenas',\n",
       " 'Christine Green',\n",
       " 'William Jr. Relling',\n",
       " 'ANNE FRANK',\n",
       " 'Kim France',\n",
       " 'James McBride',\n",
       " 'Michael J. Hunt',\n",
       " 'David Jacobs',\n",
       " 'Melanie Friedman',\n",
       " 'Hans Werner Kettenbach',\n",
       " 'Shirley Price',\n",
       " 'Philip B. Crosby',\n",
       " 'Katharine MacDonogh',\n",
       " 'TIMOTHY ZAHN',\n",
       " 'Lynsey Stevens',\n",
       " 'Roland Marchand',\n",
       " 'Julia Sauer',\n",
       " 'Mary Daly',\n",
       " 'Giles Neville',\n",
       " 'Suzanne Enoch',\n",
       " 'Fernanda Eberstadt',\n",
       " 'Ann McMillan',\n",
       " 'Tom Raabe',\n",
       " 'Jonathan Nasaw',\n",
       " 'Dianne Castell',\n",
       " 'Sheri Whitefeather',\n",
       " \"Elliott O'Donnell\",\n",
       " 'Mimi Lavenda Latt',\n",
       " 'Bede Griffiths',\n",
       " 'Georges Simenon',\n",
       " 'Naomi Baltuck',\n",
       " 'Frank Caplan',\n",
       " 'Jeffrey Archer',\n",
       " 'Arturo PÃ©rez-Reverte',\n",
       " 'World Bible Publishing',\n",
       " 'Charlie Farrell',\n",
       " 'Cathal Poirteir',\n",
       " 'Anne Redmon',\n",
       " 'JOSEPH WAMBAUGH',\n",
       " 'Lynda Trent',\n",
       " 'Seamus Heaney',\n",
       " 'Marie Frost',\n",
       " 'Alfonso Ortiz',\n",
       " 'Stephen Roos',\n",
       " 'D.R. Meredith',\n",
       " 'Crystal Green',\n",
       " 'John Rousmaniere',\n",
       " 'Boileau-Narcejac',\n",
       " 'Jim Lehrer',\n",
       " 'Neil M. Gunn',\n",
       " 'WILLIAM GIBSON',\n",
       " 'Everett Franklin Bleiler',\n",
       " 'Barbara McMahon',\n",
       " 'Rachel Simon',\n",
       " 'Jamie Sobrato',\n",
       " 'Rainer Maria Rilke',\n",
       " 'Garthia Anderson',\n",
       " 'Michael Dorris',\n",
       " 'Stella Gibbons',\n",
       " 'American College of Obstetricians and Gynecologists',\n",
       " 'Elizabeth Ryan',\n",
       " 'India Knight',\n",
       " 'Norman Maclean',\n",
       " 'Eric Metaxas',\n",
       " 'Thomas Page',\n",
       " 'Barbieri A',\n",
       " 'ANTONIA FRASER',\n",
       " 'Zeruya Shalev',\n",
       " 'Charles Seife',\n",
       " 'Charles Frazier',\n",
       " 'NORA ROBERTS',\n",
       " 'Elizabeth Walker',\n",
       " 'Polly Dunbar',\n",
       " 'Carol Gilligan',\n",
       " 'Bertha Reppert',\n",
       " 'David Adams Richards',\n",
       " 'B. F. Skinner',\n",
       " 'Lynne Truss',\n",
       " 'Jan MacLean',\n",
       " 'Jo Packham',\n",
       " 'Jane Farrow',\n",
       " 'Andrew Comery',\n",
       " 'Martin H. Greenberg',\n",
       " 'Liz Filleul',\n",
       " 'Peter David',\n",
       " 'Jacqueline Diamond',\n",
       " 'Nadine Mockler',\n",
       " 'Jeffrey Lang',\n",
       " 'Madonna Ritchie',\n",
       " 'Charles P. McKeague',\n",
       " 'La Leche League International',\n",
       " 'JAMES SWAIN',\n",
       " 'Janet Farrar',\n",
       " 'Cathy Guisewite',\n",
       " 'April Smith',\n",
       " 'SUSANNA KAYSEN',\n",
       " 'R. A. MacAvoy',\n",
       " 'Stephen Kuusisto',\n",
       " 'Nicholas Rinaldi',\n",
       " 'Greg B. Smith',\n",
       " 'Dale Brown',\n",
       " 'Margaret Lane',\n",
       " 'Arto Paasilinna',\n",
       " 'Thomas Cleary',\n",
       " 'Michael Blades',\n",
       " 'Ted Anton',\n",
       " 'M. Lambert',\n",
       " 'Robert Lee Hall',\n",
       " 'Margaret Lannamann',\n",
       " 'Gina B. Nahai',\n",
       " 'Jack McDevitt',\n",
       " 'Michael Grant',\n",
       " 'Caren Lissner',\n",
       " 'Evelyn Vaughn',\n",
       " 'Sandra K. Rhoades',\n",
       " 'Stella Cameron',\n",
       " 'Kathy Acker',\n",
       " 'Robert Eckstein',\n",
       " 'Booth Tarkington',\n",
       " 'Wayne W., Dr. Dyer',\n",
       " 'Marguerite Muntean Corsello',\n",
       " 'Rick Mofina',\n",
       " 'Matt Braun',\n",
       " 'Phil McGraw',\n",
       " 'Elaine Martin',\n",
       " 'Sheri Reynolds',\n",
       " 'Simon Mawer',\n",
       " 'Annie Fitzgerald',\n",
       " 'Zee Edgell',\n",
       " 'Henry Miller',\n",
       " 'Susan Alexander',\n",
       " 'Donea L. Shane',\n",
       " 'FERN MICHAELS',\n",
       " 'George Davis',\n",
       " 'Erving Goffman',\n",
       " 'Tim Kimmel',\n",
       " 'Ellen Feldman',\n",
       " 'Peter Bagge',\n",
       " 'Joseph F Girzone',\n",
       " 'W. G. Sebald',\n",
       " 'Mika Waltari',\n",
       " 'David Levithan',\n",
       " 'Mary-Kate &amp; Ashley Olsen',\n",
       " 'Peter Barry',\n",
       " 'Donna Jo Napoli',\n",
       " 'Ernest K. Gann',\n",
       " 'MARGARET LAURENCE',\n",
       " 'Susan Shwartz',\n",
       " 'Kate Cann',\n",
       " 'Bill Pronzini',\n",
       " 'Dan Jenkins',\n",
       " 'Steven D. Stark',\n",
       " 'Barrie Pitt',\n",
       " 'Peter Marshall',\n",
       " 'Amy Sherman-Palladino',\n",
       " 'Marilyn French',\n",
       " 'Rita Kashner',\n",
       " 'Daniel Pearl',\n",
       " 'Frederick Forsyth',\n",
       " 'SCOTT EDELMAN',\n",
       " 'Walt Disney Company',\n",
       " 'Bruce D., M.D. Shephard',\n",
       " 'Robert Ray',\n",
       " 'Richard Lim',\n",
       " 'Deb Crockett',\n",
       " 'Judith Stacy',\n",
       " 'James I., Jr Robertson',\n",
       " 'FranÃ?Â§ois Cavanna',\n",
       " 'George Stephanopoulos',\n",
       " 'Michael Palin',\n",
       " 'Edmund White',\n",
       " 'Julie Salamon',\n",
       " 'Beatrice Gormley',\n",
       " 'Michael Hoeye',\n",
       " 'Susan Cahill',\n",
       " 'Rachael F. Heller',\n",
       " 'Vickie Taylor',\n",
       " 'Jo Clayton',\n",
       " 'Elizabeth Jolley',\n",
       " 'Julian May',\n",
       " 'Honore de Balzac',\n",
       " 'M.E. Morris',\n",
       " 'Paul McCartney',\n",
       " 'Henry Cloud',\n",
       " 'Dietrich Schwanitz',\n",
       " 'Eric Fernie',\n",
       " 'Utta Danella',\n",
       " 'John Russo',\n",
       " 'John Tullius',\n",
       " 'Dray Prescot',\n",
       " 'Archer Mayor',\n",
       " 'Oluf Zierl',\n",
       " 'David Peters',\n",
       " 'Enid Blyton',\n",
       " 'M. Bulgakov',\n",
       " 'Stanley Ellin',\n",
       " 'Connie Fletcher',\n",
       " 'Roger M. Schwarz',\n",
       " 'Phillip Margolin',\n",
       " 'Charlayne Hunter-Gault',\n",
       " 'Indi Rana',\n",
       " 'Peter Tasker',\n",
       " 'Halim',\n",
       " 'Lora Brody',\n",
       " 'James Elkins',\n",
       " 'Jean Smith',\n",
       " 'Joe Cummings',\n",
       " 'S. D. Perry',\n",
       " 'Charles R Swindoll',\n",
       " 'Phyllis A. Whitney',\n",
       " 'Gavin Menzies',\n",
       " 'Hans Holzer',\n",
       " 'David Liss',\n",
       " 'Edward P. Moses',\n",
       " 'John Kerry',\n",
       " 'Steve Lawhead',\n",
       " 'Mary Summer Rain',\n",
       " 'Kurt, Jr. Vonnegut',\n",
       " 'Elaine Breault Hammond',\n",
       " 'Lenny McLean',\n",
       " 'Ron Bunney',\n",
       " 'Carolina Maria De Jesus',\n",
       " 'DIANE MOTT DAVIDSON',\n",
       " 'Patrice Kindl',\n",
       " 'Donald Hall',\n",
       " 'Carmen Bredeson',\n",
       " 'Edmund Blandford',\n",
       " 'Margot Zemach',\n",
       " 'Louise Rafkin',\n",
       " 'Neal Ascherson',\n",
       " 'Paule Constant',\n",
       " 'The Editors of Time Life Books',\n",
       " 'Rumer Godden',\n",
       " 'Andrea Fleck Clardy',\n",
       " 'Mary Gordon',\n",
       " 'Harold S. Kushner',\n",
       " 'Gianfranco Manfredi',\n",
       " 'Nancy Holder',\n",
       " 'Edmund Lester Pearson',\n",
       " 'Karen Kingsbury',\n",
       " 'Dallas Schulze',\n",
       " 'William Sutcliffe',\n",
       " 'Anselm GrÃ?Â¼n',\n",
       " 'Ziauddin Sardar',\n",
       " 'Garborgs Heart N Home',\n",
       " 'Cathleen Galitz',\n",
       " 'Patricia McLinn',\n",
       " 'Odette Larson',\n",
       " 'John J. Nance',\n",
       " 'Jaime Gil de Biedma',\n",
       " 'Shaun Gayle',\n",
       " 'Julianne Belote',\n",
       " 'Debra Webb',\n",
       " 'James Siegel',\n",
       " 'ARTURO PEREZ-REVERTE',\n",
       " 'Janet Lunn',\n",
       " 'Thomas, Sir Malory',\n",
       " 'Anita Mills',\n",
       " 'Shawna Delacorte',\n",
       " 'University',\n",
       " 'Rachel Vail',\n",
       " 'Marta Perry',\n",
       " 'Richard Aldington',\n",
       " 'Fred Mustard Stewart',\n",
       " 'Sarah Louise Delany',\n",
       " 'David Spohn',\n",
       " 'Anne Frasier',\n",
       " 'Shannon Donnelly',\n",
       " 'Harris',\n",
       " 'Raymond Radiguet',\n",
       " 'William McIlvanney',\n",
       " 'Maura Seger',\n",
       " 'Alan Coren',\n",
       " 'T. J. Marino',\n",
       " 'Stephanie Longfoot',\n",
       " 'Merrill Joan Gerber',\n",
       " 'Daniel Mason',\n",
       " 'Po Bronson',\n",
       " 'Geralyn Dawson',\n",
       " 'Dr. Jerri Nielsen',\n",
       " 'Jay Anson',\n",
       " 'Richard Stanley',\n",
       " 'Winnie Griggs',\n",
       " 'Denise Danks',\n",
       " 'Meat Loaf',\n",
       " 'AMY GRAY',\n",
       " 'Kenn Harper',\n",
       " 'Jim and Tim ( the Duct Tape Guys )',\n",
       " 'Martin  Goldsmith',\n",
       " 'Josephine Carlton',\n",
       " 'Marina Thompson',\n",
       " 'Tim Winton',\n",
       " 'Anne Willan',\n",
       " 'Marybeth Bond',\n",
       " 'Betty MacDonald',\n",
       " 'Brad Olsen',\n",
       " 'Denise Zimmermann',\n",
       " 'Donna Huston Murray',\n",
       " 'Charmaine Craig',\n",
       " 'BAXTER G',\n",
       " 'Nancy Fisher',\n",
       " 'Dan Clark',\n",
       " 'ANNE MCCAFFREY',\n",
       " 'Leo F. Buscaglia',\n",
       " 'George Gipe',\n",
       " 'Carol Costa',\n",
       " 'Kate White',\n",
       " 'George MacDonald',\n",
       " 'NATHANIEL HAWTHORNE',\n",
       " 'IvÃ¡n Tubau',\n",
       " 'David Eastman',\n",
       " 'Erika Ritter',\n",
       " 'Jonathan Carroll',\n",
       " 'Heidi Julavits',\n",
       " 'Alfred Silver',\n",
       " 'Joey Green',\n",
       " 'William Trevor',\n",
       " 'Valerie S. Malmont',\n",
       " 'Kathleen Eschenburg',\n",
       " ...]"
      ]
     },
     "execution_count": 59,
     "metadata": {},
     "output_type": "execute_result"
    }
   ],
   "source": [
    "genres = list(set([x for genres in df1['Book-Author'].values for x in genres.split('|')]))\n",
    "genres"
   ]
  },
  {
   "cell_type": "code",
   "execution_count": null,
   "metadata": {
    "id": "OxQmd-AM6daP"
   },
   "outputs": [],
   "source": [
    "Publisher = book[book['Publisher'].notna()]['Publisher']"
   ]
  },
  {
   "cell_type": "code",
   "execution_count": null,
   "metadata": {
    "colab": {
     "base_uri": "https://localhost:8080/"
    },
    "id": "exZeQyLT68lH",
    "outputId": "17c63b60-00da-40ce-f5cf-c07edd1112c7"
   },
   "outputs": [
    {
     "data": {
      "text/plain": [
       "0                                  Oxford University Press\n",
       "1                                    HarperFlamingo Canada\n",
       "2                                          HarperPerennial\n",
       "3                                     Farrar Straus Giroux\n",
       "4                               W. W. Norton &amp; Company\n",
       "                                ...                       \n",
       "271355                     Random House Childrens Pub (Mm)\n",
       "271356                                        Dutton Books\n",
       "271357                                  HarperSanFrancisco\n",
       "271358                             Oxford University Press\n",
       "271359    McGraw-Hill Humanities/Social Sciences/Languages\n",
       "Name: Publisher, Length: 271358, dtype: object"
      ]
     },
     "execution_count": 49,
     "metadata": {},
     "output_type": "execute_result"
    }
   ],
   "source": [
    "Publisher"
   ]
  },
  {
   "cell_type": "code",
   "execution_count": null,
   "metadata": {
    "id": "dbTUr2yL0-7T"
   },
   "outputs": [],
   "source": [
    "#Get Embeddings \n",
    "sentence_embeddings = bert.encode(df1['Book-Author'].tolist())"
   ]
  },
  {
   "cell_type": "code",
   "execution_count": null,
   "metadata": {
    "colab": {
     "base_uri": "https://localhost:8080/"
    },
    "id": "ZWCJ0xcb4Z7g",
    "outputId": "907196f3-da17-4682-93e2-d6d283c25648"
   },
   "outputs": [
    {
     "data": {
      "text/plain": [
       "20333"
      ]
     },
     "execution_count": 58,
     "metadata": {},
     "output_type": "execute_result"
    }
   ],
   "source": [
    "len(sentence_embeddings)"
   ]
  },
  {
   "cell_type": "code",
   "execution_count": null,
   "metadata": {
    "id": "wYWt99GA1FOt"
   },
   "outputs": [],
   "source": [
    "similarity = cosine_similarity(sentence_embeddings)"
   ]
  },
  {
   "cell_type": "code",
   "execution_count": null,
   "metadata": {
    "colab": {
     "base_uri": "https://localhost:8080/"
    },
    "id": "W1-ISULD4dC_",
    "outputId": "daa295a0-2d93-4f1a-b0bf-971f96911c4f"
   },
   "outputs": [
    {
     "data": {
      "text/plain": [
       "20333"
      ]
     },
     "execution_count": 60,
     "metadata": {},
     "output_type": "execute_result"
    }
   ],
   "source": [
    "len(similarity)"
   ]
  },
  {
   "cell_type": "code",
   "execution_count": null,
   "metadata": {
    "id": "LagdjvQHzven"
   },
   "outputs": [],
   "source": [
    "mapping = pd.Series(book.index,index = book['Book-Title'])"
   ]
  },
  {
   "cell_type": "code",
   "execution_count": null,
   "metadata": {
    "id": "UflBHlXyz6Ul"
   },
   "outputs": [],
   "source": [
    "book_index = mapping[\"Message in a Bottle\"][0]"
   ]
  },
  {
   "cell_type": "code",
   "execution_count": null,
   "metadata": {
    "colab": {
     "base_uri": "https://localhost:8080/"
    },
    "id": "1FXdQLs40VeG",
    "outputId": "f2876074-b141-4082-eb98-f1c5fa1833e1"
   },
   "outputs": [
    {
     "data": {
      "text/plain": [
       "770"
      ]
     },
     "execution_count": 66,
     "metadata": {},
     "output_type": "execute_result"
    }
   ],
   "source": [
    "book_index"
   ]
  },
  {
   "cell_type": "code",
   "execution_count": null,
   "metadata": {
    "id": "KieUHpqAAXyJ"
   },
   "outputs": [],
   "source": [
    "def recommend_me_books1(movie_input,typee):\n",
    "\n",
    "   #sentence_embeddings = bert.encode(df1[typee].tolist())\n",
    "\n",
    "   #similarity = cosine_similarity(sentence_embeddings)\n",
    "   #print(typee)\n",
    "\n",
    "   mapping = pd.Series(book.index,index = book['Book-Title'])\n",
    "\n",
    "\n",
    "   book_index = mapping[movie_input][0]\n",
    "   #print(book_index)\n",
    "\n",
    "   similarity_score=sorted(list(enumerate(similarity[book_index])), key = lambda x:x[1], reverse = True)\n",
    "\n",
    "   similarity_score = similarity_score[1:6]\n",
    "\n",
    "   movie_indices = [i[0] for i in similarity_score]\n",
    "\n",
    "   return (df2['Book-Title'].iloc[movie_indices])"
   ]
  },
  {
   "cell_type": "code",
   "execution_count": null,
   "metadata": {
    "colab": {
     "base_uri": "https://localhost:8080/"
    },
    "id": "WpX2_S--68QL",
    "outputId": "9b4e1822-684e-4335-fe3d-36dcf05e50b4"
   },
   "outputs": [
    {
     "data": {
      "text/plain": [
       "770                                          The Associate\n",
       "2230                                     The Shell Seekers\n",
       "3590                                                 Congo\n",
       "6346                                     The Da Vinci Code\n",
       "14013    The age of the economic revolution, 1876-1900 ...\n",
       "Name: Book-Title, dtype: object"
      ]
     },
     "execution_count": 82,
     "metadata": {},
     "output_type": "execute_result"
    }
   ],
   "source": [
    "recommend_me_books1('Message in a Bottle','Book-Author')"
   ]
  }
 ],
 "metadata": {
  "accelerator": "GPU",
  "colab": {
   "collapsed_sections": [],
   "name": "PopularityBookRecomend.ipynb",
   "provenance": [],
   "toc_visible": true
  },
  "kernelspec": {
   "display_name": "Python 3",
   "language": "python",
   "name": "python3"
  },
  "language_info": {
   "codemirror_mode": {
    "name": "ipython",
    "version": 3
   },
   "file_extension": ".py",
   "mimetype": "text/x-python",
   "name": "python",
   "nbconvert_exporter": "python",
   "pygments_lexer": "ipython3",
   "version": "3.8.3"
  }
 },
 "nbformat": 4,
 "nbformat_minor": 1
}
